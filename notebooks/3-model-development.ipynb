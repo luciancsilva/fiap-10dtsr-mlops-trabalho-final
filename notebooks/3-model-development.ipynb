{
 "cells": [
  {
   "cell_type": "markdown",
   "id": "cdf98e77",
   "metadata": {},
   "source": [
    "# Desenvolvimento do modelo\n",
    "\n",
    "Exploração inicial de modelos de base"
   ]
  },
  {
   "cell_type": "code",
   "execution_count": 19,
   "id": "08b41761",
   "metadata": {},
   "outputs": [],
   "source": [
    "import pandas as pd\n",
    "from dagshub.data_engine import datasources\n",
    "import mlflow\n",
    "import dagshub\n",
    "from sklearn.model_selection import train_test_split\n",
    "import mlflow.sklearn\n",
    "import mlflow.catboost\n",
    "from sklearn.linear_model import Ridge\n",
    "from sklearn.model_selection import GridSearchCV\n",
    "from sklearn.metrics import make_scorer, mean_squared_error, mean_absolute_error, r2_score, mean_absolute_percentage_error\n",
    "from sklearn.tree import DecisionTreeRegressor\n",
    "from sklearn.neural_network import MLPRegressor\n",
    "from xgboost import XGBRegressor\n",
    "import lightgbm as lgb\n",
    "from sklearn.svm import SVR\n",
    "from sklearn.gaussian_process import GaussianProcessRegressor\n",
    "from sklearn.gaussian_process.kernels import RBF, ConstantKernel as C\n",
    "import mlflow.models.signature\n",
    "from mlflow.models import infer_signature\n",
    "from catboost import CatBoostRegressor\n",
    "from sklearn.preprocessing import LabelEncoder"
   ]
  },
  {
   "cell_type": "markdown",
   "id": "1f95a9b9",
   "metadata": {},
   "source": [
    "## Carregando Dataset"
   ]
  },
  {
   "cell_type": "code",
   "execution_count": 20,
   "id": "d8001393",
   "metadata": {},
   "outputs": [],
   "source": [
    "ds = datasources.get_datasource(\"luciancsilva/fiap-10dtsr-mlops-trabalho-final\", \"processed\")"
   ]
  },
  {
   "cell_type": "code",
   "execution_count": 21,
   "id": "895db0f2",
   "metadata": {},
   "outputs": [
    {
     "data": {
      "application/vnd.jupyter.widget-view+json": {
       "model_id": "9ebfb884a79f4776a80f142c4bfd0032",
       "version_major": 2,
       "version_minor": 0
      },
      "text/plain": [
       "Output()"
      ]
     },
     "metadata": {},
     "output_type": "display_data"
    },
    {
     "data": {
      "text/html": [
       "<pre style=\"white-space:pre;overflow-x:auto;line-height:normal;font-family:Menlo,'DejaVu Sans Mono',consolas,'Courier New',monospace\"></pre>\n"
      ],
      "text/plain": []
     },
     "metadata": {},
     "output_type": "display_data"
    },
    {
     "data": {
      "text/html": [
       "<div>\n",
       "<style scoped>\n",
       "    .dataframe tbody tr th:only-of-type {\n",
       "        vertical-align: middle;\n",
       "    }\n",
       "\n",
       "    .dataframe tbody tr th {\n",
       "        vertical-align: top;\n",
       "    }\n",
       "\n",
       "    .dataframe thead th {\n",
       "        text-align: right;\n",
       "    }\n",
       "</style>\n",
       "<table border=\"1\" class=\"dataframe\">\n",
       "  <thead>\n",
       "    <tr style=\"text-align: right;\">\n",
       "      <th></th>\n",
       "      <th>path</th>\n",
       "      <th>datapoint_id</th>\n",
       "      <th>dagshub_download_url</th>\n",
       "      <th>media type</th>\n",
       "      <th>size</th>\n",
       "    </tr>\n",
       "  </thead>\n",
       "  <tbody>\n",
       "    <tr>\n",
       "      <th>0</th>\n",
       "      <td>credit-score.csv</td>\n",
       "      <td>103597804</td>\n",
       "      <td>https://dagshub.com/api/v1/repos/luciancsilva/...</td>\n",
       "      <td>text/plain</td>\n",
       "      <td>27051762</td>\n",
       "    </tr>\n",
       "  </tbody>\n",
       "</table>\n",
       "</div>"
      ],
      "text/plain": [
       "               path  datapoint_id  \\\n",
       "0  credit-score.csv     103597804   \n",
       "\n",
       "                                dagshub_download_url  media type      size  \n",
       "0  https://dagshub.com/api/v1/repos/luciancsilva/...  text/plain  27051762  "
      ]
     },
     "execution_count": 21,
     "metadata": {},
     "output_type": "execute_result"
    }
   ],
   "source": [
    "ds.all().dataframe"
   ]
  },
  {
   "cell_type": "code",
   "execution_count": 22,
   "id": "3b1113b7",
   "metadata": {},
   "outputs": [
    {
     "data": {
      "application/vnd.jupyter.widget-view+json": {
       "model_id": "270a3cdf202a466588690976b392e3db",
       "version_major": 2,
       "version_minor": 0
      },
      "text/plain": [
       "Output()"
      ]
     },
     "metadata": {},
     "output_type": "display_data"
    },
    {
     "data": {
      "text/html": [
       "<pre style=\"white-space:pre;overflow-x:auto;line-height:normal;font-family:Menlo,'DejaVu Sans Mono',consolas,'Courier New',monospace\"></pre>\n"
      ],
      "text/plain": []
     },
     "metadata": {},
     "output_type": "display_data"
    }
   ],
   "source": [
    "res = ds.head()\n",
    "\n",
    "for dp in res:\n",
    "    dataset_url = dp.download_url"
   ]
  },
  {
   "cell_type": "code",
   "execution_count": 23,
   "id": "fd8a21fe",
   "metadata": {},
   "outputs": [
    {
     "data": {
      "text/plain": [
       "'https://dagshub.com/api/v1/repos/luciancsilva/fiap-10dtsr-mlops-trabalho-final/raw/main/data/processed/credit-score.csv'"
      ]
     },
     "execution_count": 23,
     "metadata": {},
     "output_type": "execute_result"
    }
   ],
   "source": [
    "dataset_url"
   ]
  },
  {
   "cell_type": "code",
   "execution_count": 24,
   "id": "0f96ad7c",
   "metadata": {},
   "outputs": [
    {
     "data": {
      "text/html": [
       "<div>\n",
       "<style scoped>\n",
       "    .dataframe tbody tr th:only-of-type {\n",
       "        vertical-align: middle;\n",
       "    }\n",
       "\n",
       "    .dataframe tbody tr th {\n",
       "        vertical-align: top;\n",
       "    }\n",
       "\n",
       "    .dataframe thead th {\n",
       "        text-align: right;\n",
       "    }\n",
       "</style>\n",
       "<table border=\"1\" class=\"dataframe\">\n",
       "  <thead>\n",
       "    <tr style=\"text-align: right;\">\n",
       "      <th></th>\n",
       "      <th>ID</th>\n",
       "      <th>Customer_ID</th>\n",
       "      <th>Month</th>\n",
       "      <th>Age</th>\n",
       "      <th>Occupation</th>\n",
       "      <th>Annual_Income</th>\n",
       "      <th>Monthly_Inhand_Salary</th>\n",
       "      <th>Num_Bank_Accounts</th>\n",
       "      <th>Num_Credit_Card</th>\n",
       "      <th>Interest_Rate</th>\n",
       "      <th>...</th>\n",
       "      <th>Auto_Loan</th>\n",
       "      <th>Credit-Builder_Loan</th>\n",
       "      <th>Personal_Loan</th>\n",
       "      <th>Home_Equity_Loan</th>\n",
       "      <th>Not_Specified</th>\n",
       "      <th>Mortgage_Loan</th>\n",
       "      <th>Student_Loan</th>\n",
       "      <th>Debt_Consolidation_Loan</th>\n",
       "      <th>Payday_Loan</th>\n",
       "      <th>Missed_Payment_Day</th>\n",
       "    </tr>\n",
       "  </thead>\n",
       "  <tbody>\n",
       "    <tr>\n",
       "      <th>0</th>\n",
       "      <td>0x1602</td>\n",
       "      <td>CUS_0xd40</td>\n",
       "      <td>1</td>\n",
       "      <td>23.0</td>\n",
       "      <td>Scientist</td>\n",
       "      <td>19114.12</td>\n",
       "      <td>1824.843333</td>\n",
       "      <td>3.0</td>\n",
       "      <td>4.0</td>\n",
       "      <td>3.0</td>\n",
       "      <td>...</td>\n",
       "      <td>1</td>\n",
       "      <td>1</td>\n",
       "      <td>1</td>\n",
       "      <td>1</td>\n",
       "      <td>0</td>\n",
       "      <td>0</td>\n",
       "      <td>0</td>\n",
       "      <td>0</td>\n",
       "      <td>0</td>\n",
       "      <td>1</td>\n",
       "    </tr>\n",
       "    <tr>\n",
       "      <th>1</th>\n",
       "      <td>0x1603</td>\n",
       "      <td>CUS_0xd40</td>\n",
       "      <td>2</td>\n",
       "      <td>23.0</td>\n",
       "      <td>Scientist</td>\n",
       "      <td>19114.12</td>\n",
       "      <td>1824.843333</td>\n",
       "      <td>3.0</td>\n",
       "      <td>4.0</td>\n",
       "      <td>3.0</td>\n",
       "      <td>...</td>\n",
       "      <td>1</td>\n",
       "      <td>1</td>\n",
       "      <td>1</td>\n",
       "      <td>1</td>\n",
       "      <td>0</td>\n",
       "      <td>0</td>\n",
       "      <td>0</td>\n",
       "      <td>0</td>\n",
       "      <td>0</td>\n",
       "      <td>0</td>\n",
       "    </tr>\n",
       "    <tr>\n",
       "      <th>2</th>\n",
       "      <td>0x1604</td>\n",
       "      <td>CUS_0xd40</td>\n",
       "      <td>3</td>\n",
       "      <td>23.0</td>\n",
       "      <td>Scientist</td>\n",
       "      <td>19114.12</td>\n",
       "      <td>1824.843333</td>\n",
       "      <td>3.0</td>\n",
       "      <td>4.0</td>\n",
       "      <td>3.0</td>\n",
       "      <td>...</td>\n",
       "      <td>1</td>\n",
       "      <td>1</td>\n",
       "      <td>1</td>\n",
       "      <td>1</td>\n",
       "      <td>0</td>\n",
       "      <td>0</td>\n",
       "      <td>0</td>\n",
       "      <td>0</td>\n",
       "      <td>0</td>\n",
       "      <td>1</td>\n",
       "    </tr>\n",
       "    <tr>\n",
       "      <th>3</th>\n",
       "      <td>0x1605</td>\n",
       "      <td>CUS_0xd40</td>\n",
       "      <td>4</td>\n",
       "      <td>23.0</td>\n",
       "      <td>Scientist</td>\n",
       "      <td>19114.12</td>\n",
       "      <td>1824.843333</td>\n",
       "      <td>3.0</td>\n",
       "      <td>4.0</td>\n",
       "      <td>3.0</td>\n",
       "      <td>...</td>\n",
       "      <td>1</td>\n",
       "      <td>1</td>\n",
       "      <td>1</td>\n",
       "      <td>1</td>\n",
       "      <td>0</td>\n",
       "      <td>0</td>\n",
       "      <td>0</td>\n",
       "      <td>0</td>\n",
       "      <td>0</td>\n",
       "      <td>1</td>\n",
       "    </tr>\n",
       "    <tr>\n",
       "      <th>4</th>\n",
       "      <td>0x1606</td>\n",
       "      <td>CUS_0xd40</td>\n",
       "      <td>5</td>\n",
       "      <td>23.0</td>\n",
       "      <td>Scientist</td>\n",
       "      <td>19114.12</td>\n",
       "      <td>1824.843333</td>\n",
       "      <td>3.0</td>\n",
       "      <td>4.0</td>\n",
       "      <td>3.0</td>\n",
       "      <td>...</td>\n",
       "      <td>1</td>\n",
       "      <td>1</td>\n",
       "      <td>1</td>\n",
       "      <td>1</td>\n",
       "      <td>0</td>\n",
       "      <td>0</td>\n",
       "      <td>0</td>\n",
       "      <td>0</td>\n",
       "      <td>0</td>\n",
       "      <td>1</td>\n",
       "    </tr>\n",
       "  </tbody>\n",
       "</table>\n",
       "<p>5 rows × 35 columns</p>\n",
       "</div>"
      ],
      "text/plain": [
       "       ID Customer_ID  Month   Age Occupation  Annual_Income  \\\n",
       "0  0x1602   CUS_0xd40      1  23.0  Scientist       19114.12   \n",
       "1  0x1603   CUS_0xd40      2  23.0  Scientist       19114.12   \n",
       "2  0x1604   CUS_0xd40      3  23.0  Scientist       19114.12   \n",
       "3  0x1605   CUS_0xd40      4  23.0  Scientist       19114.12   \n",
       "4  0x1606   CUS_0xd40      5  23.0  Scientist       19114.12   \n",
       "\n",
       "   Monthly_Inhand_Salary  Num_Bank_Accounts  Num_Credit_Card  Interest_Rate  \\\n",
       "0            1824.843333                3.0              4.0            3.0   \n",
       "1            1824.843333                3.0              4.0            3.0   \n",
       "2            1824.843333                3.0              4.0            3.0   \n",
       "3            1824.843333                3.0              4.0            3.0   \n",
       "4            1824.843333                3.0              4.0            3.0   \n",
       "\n",
       "   ...  Auto_Loan Credit-Builder_Loan  Personal_Loan  Home_Equity_Loan  \\\n",
       "0  ...          1                   1              1                 1   \n",
       "1  ...          1                   1              1                 1   \n",
       "2  ...          1                   1              1                 1   \n",
       "3  ...          1                   1              1                 1   \n",
       "4  ...          1                   1              1                 1   \n",
       "\n",
       "   Not_Specified  Mortgage_Loan  Student_Loan  Debt_Consolidation_Loan  \\\n",
       "0              0              0             0                        0   \n",
       "1              0              0             0                        0   \n",
       "2              0              0             0                        0   \n",
       "3              0              0             0                        0   \n",
       "4              0              0             0                        0   \n",
       "\n",
       "   Payday_Loan Missed_Payment_Day  \n",
       "0            0                  1  \n",
       "1            0                  0  \n",
       "2            0                  1  \n",
       "3            0                  1  \n",
       "4            0                  1  \n",
       "\n",
       "[5 rows x 35 columns]"
      ]
     },
     "execution_count": 24,
     "metadata": {},
     "output_type": "execute_result"
    }
   ],
   "source": [
    "df = pd.read_csv(dataset_url)\n",
    "df.head()"
   ]
  },
  {
   "cell_type": "markdown",
   "id": "5f275400",
   "metadata": {},
   "source": [
    "## Desenvolvimento e experimentos de modelos"
   ]
  },
  {
   "cell_type": "code",
   "execution_count": 25,
   "id": "9958e5ed",
   "metadata": {},
   "outputs": [
    {
     "data": {
      "text/html": [
       "<pre style=\"white-space:pre;overflow-x:auto;line-height:normal;font-family:Menlo,'DejaVu Sans Mono',consolas,'Courier New',monospace\">Initialized MLflow to track repo <span style=\"color: #008000; text-decoration-color: #008000\">\"luciancsilva/fiap-10dtsr-mlops-trabalho-final\"</span>\n",
       "</pre>\n"
      ],
      "text/plain": [
       "Initialized MLflow to track repo \u001b[32m\"luciancsilva/fiap-10dtsr-mlops-trabalho-final\"\u001b[0m\n"
      ]
     },
     "metadata": {},
     "output_type": "display_data"
    },
    {
     "data": {
      "text/html": [
       "<pre style=\"white-space:pre;overflow-x:auto;line-height:normal;font-family:Menlo,'DejaVu Sans Mono',consolas,'Courier New',monospace\">Repository luciancsilva/fiap-10dtsr-mlops-trabalho-final initialized!\n",
       "</pre>\n"
      ],
      "text/plain": [
       "Repository luciancsilva/fiap-10dtsr-mlops-trabalho-final initialized!\n"
      ]
     },
     "metadata": {},
     "output_type": "display_data"
    }
   ],
   "source": [
    "dagshub.init(repo_owner=\"luciancsilva\", repo_name=\"fiap-10dtsr-mlops-trabalho-final\", mlflow=True)"
   ]
  },
  {
   "cell_type": "markdown",
   "id": "a9ad5d78",
   "metadata": {},
   "source": []
  },
  {
   "cell_type": "code",
   "execution_count": 26,
   "id": "a8f8cc27",
   "metadata": {},
   "outputs": [
    {
     "name": "stderr",
     "output_type": "stream",
     "text": [
      "2025/08/03 09:28:25 INFO mlflow.tracking.fluent: Autologging successfully enabled for lightgbm.\n",
      "2025/08/03 09:28:25 INFO mlflow.tracking.fluent: Autologging successfully enabled for sklearn.\n",
      "2025/08/03 09:28:25 INFO mlflow.tracking.fluent: Autologging successfully enabled for xgboost.\n"
     ]
    }
   ],
   "source": [
    "mlflow.autolog()"
   ]
  },
  {
   "cell_type": "code",
   "execution_count": 27,
   "id": "f83b220b",
   "metadata": {},
   "outputs": [],
   "source": [
    "# Usar o LabelEncoder para a coluna 'Payment_of_Min_Amount'\n",
    "le = LabelEncoder()\n",
    "df['Payment_of_Min_Amount'] = le.fit_transform(df['Payment_of_Min_Amount'].astype(str))"
   ]
  },
  {
   "cell_type": "code",
   "execution_count": 28,
   "id": "98c6aadc",
   "metadata": {},
   "outputs": [
    {
     "data": {
      "text/plain": [
       "['Age',\n",
       " 'Annual_Income',\n",
       " 'Num_Bank_Accounts',\n",
       " 'Num_Credit_Card',\n",
       " 'Num_of_Delayed_Payment',\n",
       " 'Credit_Utilization_Ratio',\n",
       " 'Payment_of_Min_Amount',\n",
       " 'Total_EMI_per_month',\n",
       " 'Credit_History_Age_Formated',\n",
       " 'Auto_Loan',\n",
       " 'Credit-Builder_Loan',\n",
       " 'Personal_Loan',\n",
       " 'Home_Equity_Loan',\n",
       " 'Mortgage_Loan',\n",
       " 'Student_Loan',\n",
       " 'Debt_Consolidation_Loan',\n",
       " 'Payday_Loan',\n",
       " 'Missed_Payment_Day']"
      ]
     },
     "execution_count": 28,
     "metadata": {},
     "output_type": "execute_result"
    }
   ],
   "source": [
    "features = list(df.columns)\n",
    "features.remove('ID')\n",
    "features.remove('Customer_ID')\n",
    "features.remove('Credit_Score')\n",
    "features.remove('Occupation')\n",
    "features.remove('Monthly_Inhand_Salary')\n",
    "features.remove('Interest_Rate')\n",
    "features.remove('Type_of_Loan')\n",
    "features.remove('Delay_from_due_date')\n",
    "features.remove('Changed_Credit_Limit')\n",
    "features.remove('Num_Credit_Inquiries')\n",
    "features.remove('Credit_Mix')\n",
    "features.remove('Amount_invested_monthly')\n",
    "features.remove('Monthly_Balance')\n",
    "features.remove('Num_of_Loan')\n",
    "features.remove('Outstanding_Debt')\n",
    "features.remove('Not_Specified')\n",
    "features.remove('Month')\n",
    "\n",
    "features"
   ]
  },
  {
   "cell_type": "code",
   "execution_count": 29,
   "id": "9777a167",
   "metadata": {},
   "outputs": [],
   "source": [
    "X = df[features]"
   ]
  },
  {
   "cell_type": "code",
   "execution_count": 30,
   "id": "676a8159",
   "metadata": {},
   "outputs": [
    {
     "data": {
      "text/plain": [
       "18"
      ]
     },
     "execution_count": 30,
     "metadata": {},
     "output_type": "execute_result"
    }
   ],
   "source": [
    "len(features)"
   ]
  },
  {
   "cell_type": "code",
   "execution_count": 31,
   "id": "abbdae63",
   "metadata": {},
   "outputs": [
    {
     "data": {
      "text/plain": [
       "0        1\n",
       "1        1\n",
       "2        1\n",
       "3        1\n",
       "4        1\n",
       "        ..\n",
       "99995   -1\n",
       "99996   -1\n",
       "99997   -1\n",
       "99998    0\n",
       "99999   -1\n",
       "Name: Credit_Score, Length: 100000, dtype: int64"
      ]
     },
     "execution_count": 31,
     "metadata": {},
     "output_type": "execute_result"
    }
   ],
   "source": [
    "y = df[\"Credit_Score\"]\n",
    "y"
   ]
  },
  {
   "cell_type": "code",
   "execution_count": 32,
   "id": "2950f795",
   "metadata": {},
   "outputs": [],
   "source": [
    "X_train, X_test, y_train, y_test = train_test_split(X, y, test_size=0.3, random_state=42)"
   ]
  },
  {
   "cell_type": "code",
   "execution_count": 33,
   "id": "e832f424",
   "metadata": {},
   "outputs": [],
   "source": [
    "def evaluate_and_log_model(kind, model_name, model, X_test, y_test):\n",
    "    predictions = model.predict(X_test)\n",
    "\n",
    "    mse = mean_squared_error(y_test, predictions)\n",
    "    mae = mean_absolute_error(y_test, predictions)\n",
    "    r2 = r2_score(y_test, predictions)\n",
    "    mape = mean_absolute_percentage_error(y_test, predictions)\n",
    "\n",
    "    mlflow.log_metric(\"MSE\", mse)\n",
    "    mlflow.log_metric(\"MAE\", mae)\n",
    "    mlflow.log_metric(\"R2\", r2)\n",
    "    mlflow.log_metric(\"MAPE\", mape)\n",
    "\n",
    "    signature = infer_signature(X_test, predictions)\n",
    "\n",
    "    if kind == \"catboost\":\n",
    "        mlflow.catboost.log_model(model, model_name, signature=signature, input_example=X_test[:5])\n",
    "    elif kind == \"xgboost\":\n",
    "        mlflow.xgboost.log_model(model, model_name, signature=signature, input_example=X_test[:5])\n",
    "    elif kind == \"lightgbm\":\n",
    "        mlflow.lightgbm.log_model(model, model_name, signature=signature, input_example=X_test[:5])\n",
    "    else:\n",
    "        mlflow.sklearn.log_model(model, model_name, signature=signature, input_example=X_test[:5])\n",
    "\n",
    "    print(f\"Model {model_name} logged with MSE: {mse}, MAE: {mae}, R2: {r2}, MAPE: {mape}\")"
   ]
  },
  {
   "cell_type": "markdown",
   "id": "3588d524",
   "metadata": {},
   "source": [
    "### Experimento com Ridge Regression"
   ]
  },
  {
   "cell_type": "code",
   "execution_count": 34,
   "id": "3e163b46",
   "metadata": {},
   "outputs": [
    {
     "name": "stdout",
     "output_type": "stream",
     "text": [
      "Age                            float64\n",
      "Annual_Income                  float64\n",
      "Num_Bank_Accounts              float64\n",
      "Num_Credit_Card                float64\n",
      "Num_of_Delayed_Payment         float64\n",
      "Credit_Utilization_Ratio       float64\n",
      "Payment_of_Min_Amount            int64\n",
      "Total_EMI_per_month            float64\n",
      "Credit_History_Age_Formated    float64\n",
      "Auto_Loan                        int64\n",
      "Credit-Builder_Loan              int64\n",
      "Personal_Loan                    int64\n",
      "Home_Equity_Loan                 int64\n",
      "Mortgage_Loan                    int64\n",
      "Student_Loan                     int64\n",
      "Debt_Consolidation_Loan          int64\n",
      "Payday_Loan                      int64\n",
      "Missed_Payment_Day               int64\n",
      "dtype: object\n"
     ]
    }
   ],
   "source": [
    "print(X_train.dtypes)"
   ]
  },
  {
   "cell_type": "code",
   "execution_count": 35,
   "id": "5ff13db8",
   "metadata": {},
   "outputs": [
    {
     "name": "stderr",
     "output_type": "stream",
     "text": [
      "2025/08/03 09:28:27 WARNING mlflow.utils.autologging_utils: MLflow autologging encountered a warning: \"/home/lucian/Documents/FIAP/fiap-10dtsr-mlops-trabalho-final/.venv/lib/python3.10/site-packages/mlflow/types/utils.py:452: UserWarning: Hint: Inferred schema contains integer column(s). Integer columns in Python cannot represent missing values. If your input data contains missing values at inference time, it will be encoded as floats and will cause a schema enforcement error. The best way to avoid this problem is to infer the model schema based on a realistic data sample (training dataset) that includes missing values. Alternatively, you can declare integer columns as doubles (float64) whenever these columns may have missing values. See `Handling Integers With Missing Values <https://www.mlflow.org/docs/latest/models.html#handling-integers-with-missing-values>`_ for more details.\"\n",
      "2025/08/03 09:28:28 WARNING mlflow.utils.autologging_utils: MLflow autologging encountered a warning: \"/home/lucian/Documents/FIAP/fiap-10dtsr-mlops-trabalho-final/.venv/lib/python3.10/site-packages/mlflow/types/utils.py:452: UserWarning: Hint: Inferred schema contains integer column(s). Integer columns in Python cannot represent missing values. If your input data contains missing values at inference time, it will be encoded as floats and will cause a schema enforcement error. The best way to avoid this problem is to infer the model schema based on a realistic data sample (training dataset) that includes missing values. Alternatively, you can declare integer columns as doubles (float64) whenever these columns may have missing values. See `Handling Integers With Missing Values <https://www.mlflow.org/docs/latest/models.html#handling-integers-with-missing-values>`_ for more details.\"\n",
      "2025/08/03 09:28:43 INFO mlflow.sklearn.utils: Logging the 5 best runs, 3 runs will be omitted.\n"
     ]
    },
    {
     "name": "stdout",
     "output_type": "stream",
     "text": [
      "🏃 View run flawless-turtle-22 at: https://dagshub.com/luciancsilva/fiap-10dtsr-mlops-trabalho-final.mlflow/#/experiments/0/runs/88538ab84cfb462080e774193099eb60\n",
      "🧪 View experiment at: https://dagshub.com/luciancsilva/fiap-10dtsr-mlops-trabalho-final.mlflow/#/experiments/0\n",
      "🏃 View run luxuriant-colt-886 at: https://dagshub.com/luciancsilva/fiap-10dtsr-mlops-trabalho-final.mlflow/#/experiments/0/runs/384c96a74dd24eb59cc9fc38f1e3f1cd\n",
      "🧪 View experiment at: https://dagshub.com/luciancsilva/fiap-10dtsr-mlops-trabalho-final.mlflow/#/experiments/0\n",
      "🏃 View run treasured-sloth-482 at: https://dagshub.com/luciancsilva/fiap-10dtsr-mlops-trabalho-final.mlflow/#/experiments/0/runs/6c951dede4ec45fcb4a9a6939729d2b2\n",
      "🧪 View experiment at: https://dagshub.com/luciancsilva/fiap-10dtsr-mlops-trabalho-final.mlflow/#/experiments/0\n",
      "🏃 View run gaudy-penguin-120 at: https://dagshub.com/luciancsilva/fiap-10dtsr-mlops-trabalho-final.mlflow/#/experiments/0/runs/65b97611eea442009a2f750ed23ce2ec\n",
      "🧪 View experiment at: https://dagshub.com/luciancsilva/fiap-10dtsr-mlops-trabalho-final.mlflow/#/experiments/0\n"
     ]
    },
    {
     "name": "stderr",
     "output_type": "stream",
     "text": [
      "/home/lucian/Documents/FIAP/fiap-10dtsr-mlops-trabalho-final/.venv/lib/python3.10/site-packages/mlflow/types/utils.py:452: UserWarning: Hint: Inferred schema contains integer column(s). Integer columns in Python cannot represent missing values. If your input data contains missing values at inference time, it will be encoded as floats and will cause a schema enforcement error. The best way to avoid this problem is to infer the model schema based on a realistic data sample (training dataset) that includes missing values. Alternatively, you can declare integer columns as doubles (float64) whenever these columns may have missing values. See `Handling Integers With Missing Values <https://www.mlflow.org/docs/latest/models.html#handling-integers-with-missing-values>`_ for more details.\n",
      "  warnings.warn(\n"
     ]
    },
    {
     "name": "stdout",
     "output_type": "stream",
     "text": [
      "Model ridge_regression logged with MSE: 0.33315986624909355, MAE: 0.46977569689736315, R2: 0.27165561003667216, MAPE: 611791517760599.6\n",
      "🏃 View run Ridge Regression at: https://dagshub.com/luciancsilva/fiap-10dtsr-mlops-trabalho-final.mlflow/#/experiments/0/runs/ef1c90cd7e9f49df8bb92e3500eddc26\n",
      "🧪 View experiment at: https://dagshub.com/luciancsilva/fiap-10dtsr-mlops-trabalho-final.mlflow/#/experiments/0\n"
     ]
    },
    {
     "name": "stdout",
     "output_type": "stream",
     "text": [
      "🏃 View run respected-shoat-95 at: https://dagshub.com/luciancsilva/fiap-10dtsr-mlops-trabalho-final.mlflow/#/experiments/0/runs/5b3dab1305044e42848ad742367f28fb\n",
      "🧪 View experiment at: https://dagshub.com/luciancsilva/fiap-10dtsr-mlops-trabalho-final.mlflow/#/experiments/0\n",
      "🏃 View run polite-colt-649 at: https://dagshub.com/luciancsilva/fiap-10dtsr-mlops-trabalho-final.mlflow/#/experiments/0/runs/f9082a5d17854dc885e93b9d263f9bb5\n",
      "🧪 View experiment at: https://dagshub.com/luciancsilva/fiap-10dtsr-mlops-trabalho-final.mlflow/#/experiments/0\n",
      "🏃 View run charming-chimp-610 at: https://dagshub.com/luciancsilva/fiap-10dtsr-mlops-trabalho-final.mlflow/#/experiments/0/runs/5bd267ab24ae4379b81657fc0136e117\n",
      "🧪 View experiment at: https://dagshub.com/luciancsilva/fiap-10dtsr-mlops-trabalho-final.mlflow/#/experiments/0\n",
      "🏃 View run legendary-shrew-285 at: https://dagshub.com/luciancsilva/fiap-10dtsr-mlops-trabalho-final.mlflow/#/experiments/0/runs/3e43b150e9d844cf88dda658352edb54\n",
      "🧪 View experiment at: https://dagshub.com/luciancsilva/fiap-10dtsr-mlops-trabalho-final.mlflow/#/experiments/0\n"
     ]
    },
    {
     "name": "stderr",
     "output_type": "stream",
     "text": [
      "WARNING:urllib3.connectionpool:Retrying (Retry(total=6, connect=7, read=6, redirect=7, status=7)) after connection broken by 'RemoteDisconnected('Remote end closed connection without response')': /luciancsilva/fiap-10dtsr-mlops-trabalho-final.mlflow/api/2.0/mlflow/runs/create\n",
      "WARNING:urllib3.connectionpool:Retrying (Retry(total=6, connect=7, read=7, redirect=7, status=7)) after connection broken by 'SSLEOFError(8, 'EOF occurred in violation of protocol (_ssl.c:2426)')': /luciancsilva/fiap-10dtsr-mlops-trabalho-final.mlflow/api/2.0/mlflow/runs/create\n"
     ]
    },
    {
     "name": "stdout",
     "output_type": "stream",
     "text": [
      "🏃 View run traveling-loon-852 at: https://dagshub.com/luciancsilva/fiap-10dtsr-mlops-trabalho-final.mlflow/#/experiments/0/runs/9e108efd933c4d5ba073450cee1c17a1\n",
      "🧪 View experiment at: https://dagshub.com/luciancsilva/fiap-10dtsr-mlops-trabalho-final.mlflow/#/experiments/0\n",
      "🏃 View run serious-owl-708 at: https://dagshub.com/luciancsilva/fiap-10dtsr-mlops-trabalho-final.mlflow/#/experiments/0/runs/4397586794694862beebb4716485f8d7\n",
      "🧪 View experiment at: https://dagshub.com/luciancsilva/fiap-10dtsr-mlops-trabalho-final.mlflow/#/experiments/0\n"
     ]
    },
    {
     "name": "stderr",
     "output_type": "stream",
     "text": [
      "WARNING:urllib3.connectionpool:Retrying (Retry(total=5, connect=7, read=5, redirect=7, status=7)) after connection broken by 'RemoteDisconnected('Remote end closed connection without response')': /luciancsilva/fiap-10dtsr-mlops-trabalho-final.mlflow/api/2.0/mlflow/runs/create\n",
      "WARNING:urllib3.connectionpool:Retrying (Retry(total=5, connect=7, read=6, redirect=7, status=7)) after connection broken by 'RemoteDisconnected('Remote end closed connection without response')': /luciancsilva/fiap-10dtsr-mlops-trabalho-final.mlflow/api/2.0/mlflow/runs/create\n"
     ]
    },
    {
     "name": "stdout",
     "output_type": "stream",
     "text": [
      "🏃 View run amusing-crow-947 at: https://dagshub.com/luciancsilva/fiap-10dtsr-mlops-trabalho-final.mlflow/#/experiments/0/runs/aa2239fc51b14cefb1848d470c072848\n",
      "🧪 View experiment at: https://dagshub.com/luciancsilva/fiap-10dtsr-mlops-trabalho-final.mlflow/#/experiments/0\n",
      "🏃 View run charming-cub-232 at: https://dagshub.com/luciancsilva/fiap-10dtsr-mlops-trabalho-final.mlflow/#/experiments/0/runs/ae5f541277dd400aae69850455e7ff16\n",
      "🧪 View experiment at: https://dagshub.com/luciancsilva/fiap-10dtsr-mlops-trabalho-final.mlflow/#/experiments/0\n",
      "🏃 View run unequaled-tern-356 at: https://dagshub.com/luciancsilva/fiap-10dtsr-mlops-trabalho-final.mlflow/#/experiments/0/runs/ff24b3ff94e943e49dd230a6c59b968a\n",
      "🧪 View experiment at: https://dagshub.com/luciancsilva/fiap-10dtsr-mlops-trabalho-final.mlflow/#/experiments/0\n",
      "🏃 View run popular-crow-102 at: https://dagshub.com/luciancsilva/fiap-10dtsr-mlops-trabalho-final.mlflow/#/experiments/0/runs/96d35791271945eb98a7e17a57790a80\n",
      "🧪 View experiment at: https://dagshub.com/luciancsilva/fiap-10dtsr-mlops-trabalho-final.mlflow/#/experiments/0\n",
      "🏃 View run gregarious-rat-287 at: https://dagshub.com/luciancsilva/fiap-10dtsr-mlops-trabalho-final.mlflow/#/experiments/0/runs/fb914ee65eab4b4ebb5c7dbcb0eeafe7\n",
      "🧪 View experiment at: https://dagshub.com/luciancsilva/fiap-10dtsr-mlops-trabalho-final.mlflow/#/experiments/0\n",
      "🏃 View run silent-jay-11 at: https://dagshub.com/luciancsilva/fiap-10dtsr-mlops-trabalho-final.mlflow/#/experiments/0/runs/64fdc9d2a8c847dbacde59619e1338da\n",
      "🧪 View experiment at: https://dagshub.com/luciancsilva/fiap-10dtsr-mlops-trabalho-final.mlflow/#/experiments/0\n"
     ]
    }
   ],
   "source": [
    "with mlflow.start_run(run_name=\"Ridge Regression\"):\n",
    "    param_grid = {\n",
    "        'alpha': [0.1, 1.0, 10.0, 100.0],\n",
    "        'fit_intercept': [True, False],\n",
    "        }\n",
    "    \n",
    "    ridge = Ridge()\n",
    "\n",
    "    grid_search = GridSearchCV(ridge, param_grid, cv=5, scoring=make_scorer(mean_absolute_percentage_error, greater_is_better=False))\n",
    "    grid_search.fit(X_train, y_train)\n",
    "\n",
    "    best_model = grid_search.best_estimator_\n",
    "\n",
    "    mlflow.log_param(\"best_alpha\", grid_search.best_params_['alpha'])\n",
    "    mlflow.log_param(\"best_fit_intercept\", grid_search.best_params_['fit_intercept'])\n",
    "\n",
    "    evaluate_and_log_model(\"sklearn\", \"ridge_regression\", best_model, X_test, y_test)"
   ]
  },
  {
   "cell_type": "markdown",
   "id": "9d4d8272",
   "metadata": {},
   "source": [
    "### Decision Tree Regressor"
   ]
  },
  {
   "cell_type": "code",
   "execution_count": 36,
   "id": "43a75b9d",
   "metadata": {},
   "outputs": [
    {
     "name": "stderr",
     "output_type": "stream",
     "text": [
      "2025/08/03 09:29:15 WARNING mlflow.utils.autologging_utils: MLflow autologging encountered a warning: \"/home/lucian/Documents/FIAP/fiap-10dtsr-mlops-trabalho-final/.venv/lib/python3.10/site-packages/mlflow/types/utils.py:452: UserWarning: Hint: Inferred schema contains integer column(s). Integer columns in Python cannot represent missing values. If your input data contains missing values at inference time, it will be encoded as floats and will cause a schema enforcement error. The best way to avoid this problem is to infer the model schema based on a realistic data sample (training dataset) that includes missing values. Alternatively, you can declare integer columns as doubles (float64) whenever these columns may have missing values. See `Handling Integers With Missing Values <https://www.mlflow.org/docs/latest/models.html#handling-integers-with-missing-values>`_ for more details.\"\n",
      "2025/08/03 09:30:22 WARNING mlflow.utils.autologging_utils: MLflow autologging encountered a warning: \"/home/lucian/Documents/FIAP/fiap-10dtsr-mlops-trabalho-final/.venv/lib/python3.10/site-packages/mlflow/types/utils.py:452: UserWarning: Hint: Inferred schema contains integer column(s). Integer columns in Python cannot represent missing values. If your input data contains missing values at inference time, it will be encoded as floats and will cause a schema enforcement error. The best way to avoid this problem is to infer the model schema based on a realistic data sample (training dataset) that includes missing values. Alternatively, you can declare integer columns as doubles (float64) whenever these columns may have missing values. See `Handling Integers With Missing Values <https://www.mlflow.org/docs/latest/models.html#handling-integers-with-missing-values>`_ for more details.\"\n",
      "2025/08/03 09:30:34 INFO mlflow.sklearn.utils: Logging the 5 best runs, 40 runs will be omitted.\n",
      "/home/lucian/Documents/FIAP/fiap-10dtsr-mlops-trabalho-final/.venv/lib/python3.10/site-packages/mlflow/types/utils.py:452: UserWarning: Hint: Inferred schema contains integer column(s). Integer columns in Python cannot represent missing values. If your input data contains missing values at inference time, it will be encoded as floats and will cause a schema enforcement error. The best way to avoid this problem is to infer the model schema based on a realistic data sample (training dataset) that includes missing values. Alternatively, you can declare integer columns as doubles (float64) whenever these columns may have missing values. See `Handling Integers With Missing Values <https://www.mlflow.org/docs/latest/models.html#handling-integers-with-missing-values>`_ for more details.\n",
      "  warnings.warn(\n"
     ]
    },
    {
     "name": "stdout",
     "output_type": "stream",
     "text": [
      "Model ridge_regression logged with MSE: 0.31885462662261727, MAE: 0.4516795087178103, R2: 0.30292930799534235, MAPE: 597679450542288.4\n",
      "🏃 View run Decision Tree Regression at: https://dagshub.com/luciancsilva/fiap-10dtsr-mlops-trabalho-final.mlflow/#/experiments/0/runs/d9c1300bdc344c9b821db3b8eb0c5f6b\n",
      "🧪 View experiment at: https://dagshub.com/luciancsilva/fiap-10dtsr-mlops-trabalho-final.mlflow/#/experiments/0\n"
     ]
    }
   ],
   "source": [
    "with mlflow.start_run(run_name=\"Decision Tree Regression\"):\n",
    "    param_grid = {\n",
    "        'max_depth': [None, 3, 5, 10, 15],\n",
    "        'min_samples_split': [2, 5, 10],\n",
    "        'min_samples_leaf': [1, 2, 4]\n",
    "    }\n",
    "    \n",
    "    ridge = DecisionTreeRegressor()\n",
    "\n",
    "    grid_search = GridSearchCV(ridge, param_grid, cv=5, scoring=make_scorer(mean_absolute_percentage_error, greater_is_better=False))\n",
    "    grid_search.fit(X_train, y_train)\n",
    "\n",
    "    best_model = grid_search.best_estimator_\n",
    "\n",
    "    mlflow.log_param(\"best_max_depth\", grid_search.best_params_['max_depth'])\n",
    "    mlflow.log_param(\"best_min_samples_split\", grid_search.best_params_['min_samples_split'])\n",
    "    mlflow.log_param(\"best_min_samples_leaf\", grid_search.best_params_['min_samples_leaf'])\n",
    "\n",
    "    evaluate_and_log_model(\"sklearn\", \"ridge_regression\", best_model, X_test, y_test)"
   ]
  },
  {
   "cell_type": "markdown",
   "id": "1b04deed",
   "metadata": {},
   "source": [
    "## XGBoost"
   ]
  },
  {
   "cell_type": "code",
   "execution_count": 37,
   "id": "084279a6",
   "metadata": {},
   "outputs": [
    {
     "name": "stderr",
     "output_type": "stream",
     "text": [
      "2025/08/03 09:31:08 WARNING mlflow.utils.autologging_utils: MLflow autologging encountered a warning: \"/home/lucian/Documents/FIAP/fiap-10dtsr-mlops-trabalho-final/.venv/lib/python3.10/site-packages/mlflow/types/utils.py:452: UserWarning: Hint: Inferred schema contains integer column(s). Integer columns in Python cannot represent missing values. If your input data contains missing values at inference time, it will be encoded as floats and will cause a schema enforcement error. The best way to avoid this problem is to infer the model schema based on a realistic data sample (training dataset) that includes missing values. Alternatively, you can declare integer columns as doubles (float64) whenever these columns may have missing values. See `Handling Integers With Missing Values <https://www.mlflow.org/docs/latest/models.html#handling-integers-with-missing-values>`_ for more details.\"\n",
      "WARNING:urllib3.connectionpool:Retrying (Retry(total=6, connect=7, read=6, redirect=7, status=7)) after connection broken by 'RemoteDisconnected('Remote end closed connection without response')': /luciancsilva/fiap-10dtsr-mlops-trabalho-final.mlflow/api/2.0/mlflow/runs/get?run_uuid=ede8515dc513474782122dcf1af2b771&run_id=ede8515dc513474782122dcf1af2b771\n",
      "2025/08/03 09:43:02 WARNING mlflow.utils.autologging_utils: MLflow autologging encountered a warning: \"/home/lucian/Documents/FIAP/fiap-10dtsr-mlops-trabalho-final/.venv/lib/python3.10/site-packages/mlflow/types/utils.py:452: UserWarning: Hint: Inferred schema contains integer column(s). Integer columns in Python cannot represent missing values. If your input data contains missing values at inference time, it will be encoded as floats and will cause a schema enforcement error. The best way to avoid this problem is to infer the model schema based on a realistic data sample (training dataset) that includes missing values. Alternatively, you can declare integer columns as doubles (float64) whenever these columns may have missing values. See `Handling Integers With Missing Values <https://www.mlflow.org/docs/latest/models.html#handling-integers-with-missing-values>`_ for more details.\"\n",
      "2025/08/03 09:43:15 INFO mlflow.sklearn.utils: Logging the 5 best runs, 763 runs will be omitted.\n",
      "/home/lucian/Documents/FIAP/fiap-10dtsr-mlops-trabalho-final/.venv/lib/python3.10/site-packages/mlflow/types/utils.py:452: UserWarning: Hint: Inferred schema contains integer column(s). Integer columns in Python cannot represent missing values. If your input data contains missing values at inference time, it will be encoded as floats and will cause a schema enforcement error. The best way to avoid this problem is to infer the model schema based on a realistic data sample (training dataset) that includes missing values. Alternatively, you can declare integer columns as doubles (float64) whenever these columns may have missing values. See `Handling Integers With Missing Values <https://www.mlflow.org/docs/latest/models.html#handling-integers-with-missing-values>`_ for more details.\n",
      "  warnings.warn(\n",
      "/home/lucian/Documents/FIAP/fiap-10dtsr-mlops-trabalho-final/.venv/lib/python3.10/site-packages/xgboost/sklearn.py:1028: UserWarning: [09:43:36] WARNING: /workspace/src/c_api/c_api.cc:1427: Saving model in the UBJSON format as default.  You can use file extension: `json`, `ubj` or `deprecated` to choose between formats.\n",
      "  self.get_booster().save_model(fname)\n"
     ]
    },
    {
     "name": "stdout",
     "output_type": "stream",
     "text": [
      "Model XGBoost Regressor logged with MSE: 0.34422051906585693, MAE: 0.4623214304447174, R2: 0.24747514724731445, MAPE: 375198645747712.0\n",
      "🏃 View run XGBoost_Regressor_Advanced at: https://dagshub.com/luciancsilva/fiap-10dtsr-mlops-trabalho-final.mlflow/#/experiments/0/runs/ede8515dc513474782122dcf1af2b771\n",
      "🧪 View experiment at: https://dagshub.com/luciancsilva/fiap-10dtsr-mlops-trabalho-final.mlflow/#/experiments/0\n"
     ]
    }
   ],
   "source": [
    "with mlflow.start_run(run_name=\"XGBoost_Regressor_Advanced\"):\n",
    "   \n",
    "    param_grid = {\n",
    "        'n_estimators': [100, 200],\n",
    "        'max_depth': [3, 5, 7],\n",
    "        'learning_rate': [0.01, 0.1],\n",
    "        'subsample': [0.8, 1.0],\n",
    "        'colsample_bytree': [0.8, 1.0],\n",
    "        'gamma': [0, 1],\n",
    "        'reg_alpha': [0, 0.1],\n",
    "        'reg_lambda': [1, 5],\n",
    "        'min_child_weight': [1, 3]\n",
    "    }\n",
    "   \n",
    "    xgb = XGBRegressor(random_state=42, verbosity=0)\n",
    "    grid_search = GridSearchCV(xgb, param_grid, scoring=make_scorer(mean_absolute_percentage_error, greater_is_better=False), cv=5)\n",
    "    grid_search.fit(X_train, y_train)\n",
    "    best_model = grid_search.best_estimator_\n",
    "\n",
    "    mlflow.log_param(\"best_n_estimators\", best_model.n_estimators)\n",
    "    mlflow.log_param(\"best_max_depth\", best_model.max_depth)\n",
    "    mlflow.log_param(\"best_learning_rate\", best_model.learning_rate)\n",
    "    evaluate_and_log_model(\"xgboost\", \"XGBoost Regressor\", best_model, X_test, y_test)"
   ]
  },
  {
   "cell_type": "markdown",
   "id": "192f9e48",
   "metadata": {},
   "source": [
    "## Nova abordagem XGBoost"
   ]
  },
  {
   "cell_type": "code",
   "execution_count": null,
   "id": "7020c8d4",
   "metadata": {},
   "outputs": [
    {
     "name": "stderr",
     "output_type": "stream",
     "text": [
      "2025/08/03 09:43:48 WARNING mlflow.utils.autologging_utils: MLflow autologging encountered a warning: \"/home/lucian/Documents/FIAP/fiap-10dtsr-mlops-trabalho-final/.venv/lib/python3.10/site-packages/mlflow/types/utils.py:452: UserWarning: Hint: Inferred schema contains integer column(s). Integer columns in Python cannot represent missing values. If your input data contains missing values at inference time, it will be encoded as floats and will cause a schema enforcement error. The best way to avoid this problem is to infer the model schema based on a realistic data sample (training dataset) that includes missing values. Alternatively, you can declare integer columns as doubles (float64) whenever these columns may have missing values. See `Handling Integers With Missing Values <https://www.mlflow.org/docs/latest/models.html#handling-integers-with-missing-values>`_ for more details.\"\n",
      "2025/08/03 09:45:12 WARNING mlflow.utils.autologging_utils: MLflow autologging encountered a warning: \"/home/lucian/Documents/FIAP/fiap-10dtsr-mlops-trabalho-final/.venv/lib/python3.10/site-packages/mlflow/types/utils.py:452: UserWarning: Hint: Inferred schema contains integer column(s). Integer columns in Python cannot represent missing values. If your input data contains missing values at inference time, it will be encoded as floats and will cause a schema enforcement error. The best way to avoid this problem is to infer the model schema based on a realistic data sample (training dataset) that includes missing values. Alternatively, you can declare integer columns as doubles (float64) whenever these columns may have missing values. See `Handling Integers With Missing Values <https://www.mlflow.org/docs/latest/models.html#handling-integers-with-missing-values>`_ for more details.\"\n",
      "2025/08/03 09:45:23 INFO mlflow.sklearn.utils: Logging the 5 best runs, 43 runs will be omitted.\n",
      "/home/lucian/Documents/FIAP/fiap-10dtsr-mlops-trabalho-final/.venv/lib/python3.10/site-packages/mlflow/types/utils.py:452: UserWarning: Hint: Inferred schema contains integer column(s). Integer columns in Python cannot represent missing values. If your input data contains missing values at inference time, it will be encoded as floats and will cause a schema enforcement error. The best way to avoid this problem is to infer the model schema based on a realistic data sample (training dataset) that includes missing values. Alternatively, you can declare integer columns as doubles (float64) whenever these columns may have missing values. See `Handling Integers With Missing Values <https://www.mlflow.org/docs/latest/models.html#handling-integers-with-missing-values>`_ for more details.\n",
      "  warnings.warn(\n",
      "/home/lucian/Documents/FIAP/fiap-10dtsr-mlops-trabalho-final/.venv/lib/python3.10/site-packages/xgboost/sklearn.py:1028: UserWarning: [09:45:45] WARNING: /workspace/src/c_api/c_api.cc:1427: Saving model in the UBJSON format as default.  You can use file extension: `json`, `ubj` or `deprecated` to choose between formats.\n",
      "  self.get_booster().save_model(fname)\n"
     ]
    },
    {
     "name": "stdout",
     "output_type": "stream",
     "text": [
      "Model XGBoost Regressor logged with MSE: 0.3431451618671417, MAE: 0.46224772930145264, R2: 0.24982601404190063, MAPE: 382015899697152.0\n",
      "🏃 View run XGBoost_Regressor at: https://dagshub.com/luciancsilva/fiap-10dtsr-mlops-trabalho-final.mlflow/#/experiments/0/runs/b575039f697e42ff8d60a67efb261788\n",
      "🧪 View experiment at: https://dagshub.com/luciancsilva/fiap-10dtsr-mlops-trabalho-final.mlflow/#/experiments/0\n"
     ]
    }
   ],
   "source": [
    "with mlflow.start_run(run_name=\"XGBoost_Regressor\"):\n",
    "    param_grid = {\n",
    "        'n_estimators': [100, 200, 300],\n",
    "        'max_depth': [3, 5, 7, 9],\n",
    "        'learning_rate': [0.01, 0.1, 0.2, 0.3],\n",
    "    }\n",
    "    xgb = XGBRegressor(random_state=42, verbosity=0)\n",
    "    grid_search = GridSearchCV(xgb, param_grid, scoring=make_scorer(mean_absolute_percentage_error, greater_is_better=False), cv=5)\n",
    "    grid_search.fit(X_train, y_train)\n",
    "    best_model = grid_search.best_estimator_\n",
    "\n",
    "    mlflow.log_param(\"best_n_estimators\", best_model.n_estimators)\n",
    "    mlflow.log_param(\"best_max_depth\", best_model.max_depth)\n",
    "    mlflow.log_param(\"best_learning_rate\", best_model.learning_rate)\n",
    "    evaluate_and_log_model(\"xgboost\", \"XGBoost Regressor\", best_model, X_test, y_test)"
   ]
  },
  {
   "cell_type": "markdown",
   "id": "50f57909",
   "metadata": {},
   "source": [
    "## Registro de Modelo em Produção"
   ]
  },
  {
   "cell_type": "code",
   "execution_count": 45,
   "id": "065f17ea",
   "metadata": {},
   "outputs": [
    {
     "name": "stderr",
     "output_type": "stream",
     "text": [
      "Successfully registered model 'credit_score_model'.\n",
      "2025/08/03 10:36:00 INFO mlflow.store.model_registry.abstract_store: Waiting up to 300 seconds for model version to finish creation. Model name: credit_score_model, version 1\n",
      "Created version '1' of model 'credit_score_model'.\n"
     ]
    },
    {
     "data": {
      "text/plain": [
       "<ModelVersion: aliases=[], creation_timestamp=1754228160131, current_stage='None', description='', last_updated_timestamp=1754228160131, name='credit_score_model', run_id='ede8515dc513474782122dcf1af2b771', run_link='', source='mlflow-artifacts:/d89c8d3636e44e82a9744e47bc1ceb8e/ede8515dc513474782122dcf1af2b771/artifacts/model', status='READY', status_message=None, tags={}, user_id='', version='1'>"
      ]
     },
     "execution_count": 45,
     "metadata": {},
     "output_type": "execute_result"
    }
   ],
   "source": [
    "run_id = \"ede8515dc513474782122dcf1af2b771\"\n",
    "\n",
    "mlflow.register_model(model_uri=f\"runs:/{run_id}/model\", name=\"credit_score_model\")"
   ]
  },
  {
   "cell_type": "markdown",
   "id": "f8ea7ace",
   "metadata": {},
   "source": []
  }
 ],
 "metadata": {
  "kernelspec": {
   "display_name": ".venv",
   "language": "python",
   "name": "python3"
  },
  "language_info": {
   "codemirror_mode": {
    "name": "ipython",
    "version": 3
   },
   "file_extension": ".py",
   "mimetype": "text/x-python",
   "name": "python",
   "nbconvert_exporter": "python",
   "pygments_lexer": "ipython3",
   "version": "3.10.11"
  }
 },
 "nbformat": 4,
 "nbformat_minor": 5
}
