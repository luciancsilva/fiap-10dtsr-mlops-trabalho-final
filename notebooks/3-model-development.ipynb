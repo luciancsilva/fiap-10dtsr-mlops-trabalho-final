{
 "cells": [
  {
   "cell_type": "markdown",
   "id": "1e0146c1",
   "metadata": {},
   "source": [
    "# Desenvolvimento do modelo\n",
    "\n",
    "Exploração inicial de modelos de base - CLASSIFICAÇÃO"
   ]
  },
  {
   "cell_type": "code",
   "execution_count": null,
   "id": "eb2fed4a",
   "metadata": {},
   "outputs": [],
   "source": [
    "import pandas as pd\n",
    "from dagshub.data_engine import datasources\n",
    "import mlflow\n",
    "import dagshub\n",
    "from sklearn.model_selection import train_test_split\n",
    "import mlflow.sklearn\n",
    "import mlflow.xgboost\n",
    "from sklearn.linear_model import RidgeClassifier\n",
    "from sklearn.model_selection import GridSearchCV\n",
    "from sklearn.metrics import make_scorer, accuracy_score, precision_score, recall_score, f1_score, classification_report\n",
    "from sklearn.tree import DecisionTreeClassifier\n",
    "from sklearn.neural_network import MLPClassifier\n",
    "from xgboost import XGBClassifier\n",
    "import lightgbm as lgb\n",
    "from sklearn.svm import SVC\n",
    "import mlflow.models.signature\n",
    "from mlflow.models import infer_signature\n",
    "from sklearn.preprocessing import LabelEncoder\n",
    "import numpy as np"
   ]
  },
  {
   "cell_type": "markdown",
   "id": "db4e349e",
   "metadata": {},
   "source": [
    "## Carregando Dataset"
   ]
  },
  {
   "cell_type": "code",
   "execution_count": null,
   "id": "51bfac9e",
   "metadata": {},
   "outputs": [],
   "source": [
    "ds = datasources.get_datasource(\"luciancsilva/fiap-10dtsr-mlops-trabalho-final\", \"processed\")"
   ]
  },
  {
   "cell_type": "code",
   "execution_count": null,
   "id": "4072a6ac",
   "metadata": {},
   "outputs": [],
   "source": [
    "ds.all().dataframe"
   ]
  },
  {
   "cell_type": "code",
   "execution_count": null,
   "id": "c3e29019",
   "metadata": {},
   "outputs": [],
   "source": [
    "res = ds.head()\n",
    "\n",
    "for dp in res:\n",
    "    dataset_url = dp.download_url"
   ]
  },
  {
   "cell_type": "code",
   "execution_count": null,
   "id": "b9858663",
   "metadata": {},
   "outputs": [],
   "source": [
    "dataset_url"
   ]
  },
  {
   "cell_type": "code",
   "execution_count": null,
   "id": "3304a8ec",
   "metadata": {},
   "outputs": [],
   "source": [
    "df = pd.read_csv(dataset_url)\n",
    "df.head()"
   ]
  },
  {
   "cell_type": "markdown",
   "id": "bc52ff42",
   "metadata": {},
   "source": [
    "## Verificação e ajuste do Credit_Score para classificação (-1, 0, 1)"
   ]
  },
  {
   "cell_type": "code",
   "execution_count": null,
   "id": "511768d0",
   "metadata": {},
   "outputs": [],
   "source": [
    "# Verificar os valores únicos atuais do Credit_Score\n",
    "print(\"Valores únicos no Credit_Score antes do ajuste:\")\n",
    "print(df['Credit_Score'].unique())\n",
    "print(\"Tipo atual:\", df['Credit_Score'].dtype)\n",
    "\n",
    "# Se os valores já são -1, 0, 1, apenas garantir que seja int64\n",
    "# Se são strings como 'Poor', 'Standard', 'Good', mapear para -1, 0, 1\n",
    "if df['Credit_Score'].dtype == 'object':\n",
    "    # Mapear strings para valores numéricos (ajuste conforme seus dados)\n",
    "    credit_score_map = {\n",
    "        'Poor': -1, \n",
    "        'Standard': 0, \n",
    "        'Good': 1\n",
    "    }\n",
    "    df['Credit_Score'] = df['Credit_Score'].map(credit_score_map)\n",
    "\n",
    "# Garantir que seja int64\n",
    "df['Credit_Score'] = df['Credit_Score'].astype('int64')\n",
    "\n",
    "print(\"\\nValores únicos no Credit_Score após ajuste:\")\n",
    "print(df['Credit_Score'].unique())\n",
    "print(\"Distribuição do Credit_Score:\")\n",
    "print(df['Credit_Score'].value_counts().sort_index())"
   ]
  },
  {
   "cell_type": "markdown",
   "id": "8626209c",
   "metadata": {},
   "source": [
    "## Desenvolvimento e experimentos de modelos"
   ]
  },
  {
   "cell_type": "code",
   "execution_count": null,
   "id": "ec90a8bd",
   "metadata": {},
   "outputs": [],
   "source": [
    "dagshub.init(repo_owner=\"luciancsilva\", repo_name=\"fiap-10dtsr-mlops-trabalho-final\", mlflow=True)"
   ]
  },
  {
   "cell_type": "code",
   "execution_count": null,
   "id": "6cee907b",
   "metadata": {},
   "outputs": [],
   "source": [
    "mlflow.autolog()"
   ]
  },
  {
   "cell_type": "code",
   "execution_count": null,
   "id": "0cc89251",
   "metadata": {},
   "outputs": [],
   "source": [
    "# Usar o LabelEncoder para a coluna 'Payment_of_Min_Amount'\n",
    "le = LabelEncoder()\n",
    "df['Payment_of_Min_Amount'] = le.fit_transform(df['Payment_of_Min_Amount'].astype(str))"
   ]
  },
  {
   "cell_type": "code",
   "execution_count": null,
   "id": "a91beee2",
   "metadata": {},
   "outputs": [],
   "source": [
    "features = list(df.columns)\n",
    "features.remove('ID')\n",
    "features.remove('Customer_ID')\n",
    "features.remove('Credit_Score')\n",
    "features.remove('Occupation')\n",
    "features.remove('Monthly_Inhand_Salary')\n",
    "features.remove('Interest_Rate')\n",
    "features.remove('Type_of_Loan')\n",
    "features.remove('Delay_from_due_date')\n",
    "features.remove('Changed_Credit_Limit')\n",
    "features.remove('Num_Credit_Inquiries')\n",
    "features.remove('Credit_Mix')\n",
    "features.remove('Amount_invested_monthly')\n",
    "features.remove('Monthly_Balance')\n",
    "features.remove('Num_of_Loan')\n",
    "features.remove('Outstanding_Debt')\n",
    "features.remove('Not_Specified')\n",
    "features.remove('Month')\n",
    "\n",
    "features"
   ]
  },
  {
   "cell_type": "code",
   "execution_count": null,
   "id": "8dd3da66",
   "metadata": {},
   "outputs": [],
   "source": [
    "X = df[features]"
   ]
  },
  {
   "cell_type": "code",
   "execution_count": null,
   "id": "8805fff8",
   "metadata": {},
   "outputs": [],
   "source": [
    "len(features)"
   ]
  },
  {
   "cell_type": "code",
   "execution_count": null,
   "id": "0bf19df0",
   "metadata": {},
   "outputs": [],
   "source": [
    "y = df[\"Credit_Score\"]\n",
    "print(\"Classes únicas:\", y.unique())\n",
    "print(\"Tipo do target:\", y.dtype)"
   ]
  },
  {
   "cell_type": "code",
   "execution_count": null,
   "id": "a4903fd1",
   "metadata": {},
   "outputs": [],
   "source": [
    "X_train, X_test, y_train, y_test = train_test_split(X, y, test_size=0.3, random_state=42, stratify=y)"
   ]
  },
  {
   "cell_type": "code",
   "execution_count": null,
   "id": "45e608bd",
   "metadata": {
    "lines_to_next_cell": 1
   },
   "outputs": [],
   "source": [
    "# Mapear classes para XGBoost (que espera classes sequenciais começando do 0)\n",
    "class_mapping = {-1: 0, 0: 1, 1: 2}\n",
    "reverse_mapping = {0: -1, 1: 0, 2: 1}\n",
    "\n",
    "# Aplicar mapeamento nos conjuntos de treino e teste\n",
    "y_train_xgb = y_train.map(class_mapping)\n",
    "y_test_xgb = y_test.map(class_mapping)\n",
    "\n",
    "print(\"Mapeamento de classes para XGBoost:\")\n",
    "print(\"Original -> XGBoost\")\n",
    "for orig, xgb in class_mapping.items():\n",
    "    print(f\"{orig} -> {xgb}\")\n",
    "    \n",
    "print(f\"\\nDistribuição y_train original: {y_train.value_counts().sort_index()}\")\n",
    "print(f\"Distribuição y_train_xgb: {y_train_xgb.value_counts().sort_index()}\")"
   ]
  },
  {
   "cell_type": "code",
   "execution_count": null,
   "id": "e888f792",
   "metadata": {
    "lines_to_next_cell": 1
   },
   "outputs": [],
   "source": [
    "def evaluate_and_log_classification_model(kind, model_name, model, X_test, y_test, y_test_original=None, reverse_mapping=None):\n",
    "    predictions = model.predict(X_test)\n",
    "    \n",
    "    # Se for XGBoost, converter predições de volta para classes originais\n",
    "    if reverse_mapping is not None:\n",
    "        predictions_original = pd.Series(predictions).map(reverse_mapping)\n",
    "        y_test_eval = y_test_original\n",
    "    else:\n",
    "        predictions_original = predictions\n",
    "        y_test_eval = y_test\n",
    "    \n",
    "    probabilities = model.predict_proba(X_test) if hasattr(model, 'predict_proba') else None\n",
    "\n",
    "    accuracy = accuracy_score(y_test_eval, predictions_original)\n",
    "    precision = precision_score(y_test_eval, predictions_original, average='weighted')\n",
    "    recall = recall_score(y_test_eval, predictions_original, average='weighted')\n",
    "    f1 = f1_score(y_test_eval, predictions_original, average='weighted')\n",
    "\n",
    "    mlflow.log_metric(\"Accuracy\", accuracy)\n",
    "    mlflow.log_metric(\"Precision\", precision)\n",
    "    mlflow.log_metric(\"Recall\", recall)\n",
    "    mlflow.log_metric(\"F1_Score\", f1)\n",
    "\n",
    "    # Log classification report\n",
    "    report = classification_report(y_test_eval, predictions_original, output_dict=True)\n",
    "    for class_label, metrics in report.items():\n",
    "        if isinstance(metrics, dict):\n",
    "            for metric_name, value in metrics.items():\n",
    "                mlflow.log_metric(f\"{class_label}_{metric_name}\", value)\n",
    "\n",
    "    signature = infer_signature(X_test, predictions_original)\n",
    "\n",
    "    if kind == \"xgboost\":\n",
    "        mlflow.xgboost.log_model(model, model_name, signature=signature, input_example=X_test[:5])\n",
    "    elif kind == \"lightgbm\":\n",
    "        mlflow.lightgbm.log_model(model, model_name, signature=signature, input_example=X_test[:5])\n",
    "    else:\n",
    "        mlflow.sklearn.log_model(model, model_name, signature=signature, input_example=X_test[:5])\n",
    "\n",
    "    print(f\"Model {model_name} logged with Accuracy: {accuracy:.4f}, Precision: {precision:.4f}, Recall: {recall:.4f}, F1: {f1:.4f}\")\n",
    "    print(f\"Predições originais (sample): {predictions_original[:10] if reverse_mapping else predictions[:10]}\")"
   ]
  },
  {
   "cell_type": "markdown",
   "id": "308e7a1d",
   "metadata": {},
   "source": [
    "### Experimento com Ridge Classifier"
   ]
  },
  {
   "cell_type": "code",
   "execution_count": null,
   "id": "9d5d6e90",
   "metadata": {},
   "outputs": [],
   "source": [
    "print(X_train.dtypes)"
   ]
  },
  {
   "cell_type": "code",
   "execution_count": null,
   "id": "dbb6b941",
   "metadata": {},
   "outputs": [],
   "source": [
    "with mlflow.start_run(run_name=\"Ridge Classifier\"):\n",
    "    param_grid = {\n",
    "        'alpha': [0.1, 1.0, 10.0, 100.0],\n",
    "        'fit_intercept': [True, False],\n",
    "        }\n",
    "    \n",
    "    ridge = RidgeClassifier()\n",
    "\n",
    "    grid_search = GridSearchCV(ridge, param_grid, cv=5, scoring='accuracy')\n",
    "    grid_search.fit(X_train, y_train)\n",
    "\n",
    "    best_model = grid_search.best_estimator_\n",
    "\n",
    "    mlflow.log_param(\"best_alpha\", grid_search.best_params_['alpha'])\n",
    "    mlflow.log_param(\"best_fit_intercept\", grid_search.best_params_['fit_intercept'])\n",
    "\n",
    "    evaluate_and_log_classification_model(\"sklearn\", \"ridge_classifier\", best_model, X_test, y_test)"
   ]
  },
  {
   "cell_type": "markdown",
   "id": "ad09c50b",
   "metadata": {},
   "source": [
    "### Decision Tree Classifier"
   ]
  },
  {
   "cell_type": "code",
   "execution_count": null,
   "id": "11898c65",
   "metadata": {},
   "outputs": [],
   "source": [
    "with mlflow.start_run(run_name=\"Decision Tree Classifier\"):\n",
    "    param_grid = {\n",
    "        'max_depth': [None, 3, 5, 10, 15],\n",
    "        'min_samples_split': [2, 5, 10],\n",
    "        'min_samples_leaf': [1, 2, 4]\n",
    "    }\n",
    "    \n",
    "    dt = DecisionTreeClassifier(random_state=42)\n",
    "\n",
    "    grid_search = GridSearchCV(dt, param_grid, cv=5, scoring='accuracy')\n",
    "    grid_search.fit(X_train, y_train)\n",
    "\n",
    "    best_model = grid_search.best_estimator_\n",
    "\n",
    "    mlflow.log_param(\"best_max_depth\", grid_search.best_params_['max_depth'])\n",
    "    mlflow.log_param(\"best_min_samples_split\", grid_search.best_params_['min_samples_split'])\n",
    "    mlflow.log_param(\"best_min_samples_leaf\", grid_search.best_params_['min_samples_leaf'])\n",
    "\n",
    "    evaluate_and_log_classification_model(\"sklearn\", \"decision_tree_classifier\", best_model, X_test, y_test)"
   ]
  },
  {
   "cell_type": "markdown",
   "id": "8ed2a7ec",
   "metadata": {},
   "source": [
    "## XGBoost Classifier"
   ]
  },
  {
   "cell_type": "code",
   "execution_count": null,
   "id": "417000cc",
   "metadata": {},
   "outputs": [],
   "source": [
    "with mlflow.start_run(run_name=\"XGBoost_Classifier_Fast\"):\n",
    "   \n",
    "    # Grid muito mais simples para ser rápido\n",
    "    param_grid = {\n",
    "        'n_estimators': [100, 200],\n",
    "        'max_depth': [3, 6],\n",
    "        'learning_rate': [0.1, 0.2]\n",
    "    }\n",
    "   \n",
    "    # Usar dados mapeados para XGBoost\n",
    "    xgb = XGBClassifier(random_state=42, verbosity=0, eval_metric='mlogloss')\n",
    "    grid_search = GridSearchCV(xgb, param_grid, scoring='accuracy', cv=3)  # CV reduzido para 3\n",
    "    grid_search.fit(X_train, y_train_xgb)\n",
    "    best_model = grid_search.best_estimator_\n",
    "\n",
    "    mlflow.log_param(\"best_n_estimators\", best_model.n_estimators)\n",
    "    mlflow.log_param(\"best_max_depth\", best_model.max_depth)\n",
    "    mlflow.log_param(\"best_learning_rate\", best_model.learning_rate)\n",
    "    \n",
    "    # Avaliar com conversão de volta para classes originais\n",
    "    evaluate_and_log_classification_model(\"xgboost\", \"XGBoost Classifier\", best_model, X_test, y_test_xgb, y_test, reverse_mapping)"
   ]
  },
  {
   "cell_type": "markdown",
   "id": "6301dae7",
   "metadata": {},
   "source": [
    "## Registro de Modelo em Produção"
   ]
  },
  {
   "cell_type": "code",
   "execution_count": null,
   "id": "0a8ede75",
   "metadata": {},
   "outputs": [],
   "source": [
    "# Substitua pelo run_id do melhor modelo\n",
    "run_id = \"4c0a3d5e4f0948fba1e1d6735a44719f\"\n",
    "\n",
    "mlflow.register_model(model_uri=f\"runs:/{run_id}/model\", name=\"credit_score_model\")"
   ]
  }
 ],
 "metadata": {
  "jupytext": {
   "cell_metadata_filter": "-all",
   "main_language": "python",
   "notebook_metadata_filter": "-all"
  },
  "kernelspec": {
   "display_name": ".venv",
   "language": "python",
   "name": "python3"
  },
  "language_info": {
   "name": "python",
   "version": "3.10.11"
  }
 },
 "nbformat": 4,
 "nbformat_minor": 5
}
