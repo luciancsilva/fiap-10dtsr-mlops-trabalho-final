{
 "cells": [
  {
   "cell_type": "markdown",
<<<<<<< HEAD
   "id": "1e0146c1",
   "metadata": {},
   "source": [
    "# Desenvolvimento do modelo\n",
    "\n",
    "Exploração inicial de modelos de base - CLASSIFICAÇÃO"
=======
   "id": "cdf98e77",
   "metadata": {},
   "source": [
    "# Desenvolvimento do modelo de predição de preço\n",
    "\n",
    "Exploração inicial de modelos de base"
>>>>>>> 6820d8e6b4a932637a73c1dda21ad81c69186b04
   ]
  },
  {
   "cell_type": "code",
<<<<<<< HEAD
   "execution_count": 78,
   "id": "eb2fed4a",
=======
   "execution_count": 21,
   "id": "08b41761",
>>>>>>> 6820d8e6b4a932637a73c1dda21ad81c69186b04
   "metadata": {},
   "outputs": [],
   "source": [
    "import pandas as pd\n",
    "from dagshub.data_engine import datasources\n",
    "import mlflow\n",
    "import dagshub\n",
    "from sklearn.model_selection import train_test_split\n",
    "import mlflow.sklearn\n",
<<<<<<< HEAD
    "import mlflow.xgboost\n",
    "from sklearn.linear_model import RidgeClassifier\n",
    "from sklearn.model_selection import GridSearchCV\n",
    "from sklearn.metrics import make_scorer, accuracy_score, precision_score, recall_score, f1_score, classification_report\n",
    "from sklearn.tree import DecisionTreeClassifier\n",
    "from sklearn.neural_network import MLPClassifier\n",
    "from xgboost import XGBClassifier\n",
    "import lightgbm as lgb\n",
    "from sklearn.svm import SVC\n",
    "import mlflow.models.signature\n",
    "from mlflow.models import infer_signature\n",
    "from sklearn.preprocessing import LabelEncoder\n",
    "import numpy as np"
=======
    "import mlflow.catboost\n",
    "from sklearn.linear_model import Ridge\n",
    "from sklearn.model_selection import GridSearchCV\n",
    "from sklearn.metrics import make_scorer, mean_squared_error, mean_absolute_error, r2_score, mean_absolute_percentage_error\n",
    "from sklearn.tree import DecisionTreeRegressor\n",
    "from sklearn.neural_network import MLPRegressor\n",
    "from xgboost import XGBRegressor\n",
    "import lightgbm as lgb\n",
    "from sklearn.svm import SVR\n",
    "from sklearn.gaussian_process import GaussianProcessRegressor\n",
    "from sklearn.gaussian_process.kernels import RBF, ConstantKernel as C\n",
    "import mlflow.models.signature\n",
    "from mlflow.models import infer_signature\n",
    "from catboost import CatBoostRegressor"
>>>>>>> 6820d8e6b4a932637a73c1dda21ad81c69186b04
   ]
  },
  {
   "cell_type": "markdown",
<<<<<<< HEAD
   "id": "db4e349e",
=======
   "id": "1f95a9b9",
>>>>>>> 6820d8e6b4a932637a73c1dda21ad81c69186b04
   "metadata": {},
   "source": [
    "## Carregando Dataset"
   ]
  },
  {
   "cell_type": "code",
<<<<<<< HEAD
   "execution_count": 79,
   "id": "51bfac9e",
=======
   "execution_count": 25,
   "id": "d8001393",
>>>>>>> 6820d8e6b4a932637a73c1dda21ad81c69186b04
   "metadata": {},
   "outputs": [
    {
     "name": "stderr",
     "output_type": "stream",
     "text": [
      "INFO:gql.transport.requests:>>> {\"query\": \"query datasource($id: ID, $name: String) {\\n  datasource(id: $id, name: $name) {\\n    id\\n    name\\n    rootUrl\\n    integrationStatus\\n    preprocessingStatus\\n    metadataFields {\\n      name\\n      valueType\\n      multiple\\n      tags\\n    }\\n    type\\n  }\\n}\", \"variables\": {\"id\": null, \"name\": \"processed\"}}\n",
<<<<<<< HEAD
      "INFO:gql.transport.requests:<<< {\"data\":{\"datasource\":[{\"id\":6139,\"name\":\"processed\",\"rootUrl\":\"repo://luciancsilva/fiap-10dtsr-mlops-trabalho-final/main:data/processed\",\"integrationStatus\":\"VALID\",\"preprocessingStatus\":\"READY\",\"metadataFields\":[{\"name\":\"size\",\"valueType\":\"INTEGER\",\"multiple\":false,\"tags\":null},{\"name\":\"media type\",\"valueType\":\"STRING\",\"multiple\":false,\"tags\":null}],\"type\":\"REPOSITORY\"}]}}\n"
=======
      "INFO:gql.transport.requests:<<< {\"data\":{\"datasource\":[{\"id\":5799,\"name\":\"processed\",\"rootUrl\":\"repo://michelpf/fiap-ds-mlops-10dtsr-laptop-pricing-brl/main:data/processed\",\"integrationStatus\":\"VALID\",\"preprocessingStatus\":\"READY\",\"metadataFields\":[{\"name\":\"size\",\"valueType\":\"INTEGER\",\"multiple\":false,\"tags\":null},{\"name\":\"media type\",\"valueType\":\"STRING\",\"multiple\":false,\"tags\":null}],\"type\":\"REPOSITORY\"}]}}\n"
>>>>>>> 6820d8e6b4a932637a73c1dda21ad81c69186b04
     ]
    }
   ],
   "source": [
<<<<<<< HEAD
    "ds = datasources.get_datasource(\"luciancsilva/fiap-10dtsr-mlops-trabalho-final\", \"processed\")"
=======
    "ds = datasources.get_datasource(\"michelpf/fiap-ds-mlops-10dtsr-laptop-pricing-brl\", \"processed\")"
>>>>>>> 6820d8e6b4a932637a73c1dda21ad81c69186b04
   ]
  },
  {
   "cell_type": "code",
<<<<<<< HEAD
   "execution_count": 80,
   "id": "4072a6ac",
=======
   "execution_count": 23,
   "id": "895db0f2",
>>>>>>> 6820d8e6b4a932637a73c1dda21ad81c69186b04
   "metadata": {},
   "outputs": [
    {
     "name": "stderr",
     "output_type": "stream",
     "text": [
<<<<<<< HEAD
      "INFO:gql.transport.requests:>>> {\"query\": \"query datasource($id: ID, $name: String) {\\n  datasource(id: $id, name: $name) {\\n    id\\n    name\\n    rootUrl\\n    integrationStatus\\n    preprocessingStatus\\n    metadataFields {\\n      name\\n      valueType\\n      multiple\\n      tags\\n    }\\n    type\\n  }\\n}\", \"variables\": {\"id\": 6139, \"name\": \"processed\"}}\n",
      "INFO:gql.transport.requests:<<< {\"data\":{\"datasource\":[{\"id\":6139,\"name\":\"processed\",\"rootUrl\":\"repo://luciancsilva/fiap-10dtsr-mlops-trabalho-final/main:data/processed\",\"integrationStatus\":\"VALID\",\"preprocessingStatus\":\"READY\",\"metadataFields\":[{\"name\":\"size\",\"valueType\":\"INTEGER\",\"multiple\":false,\"tags\":null},{\"name\":\"media type\",\"valueType\":\"STRING\",\"multiple\":false,\"tags\":null}],\"type\":\"REPOSITORY\"}]}}\n"
=======
      "INFO:gql.transport.requests:>>> {\"query\": \"query datasource($id: ID, $name: String) {\\n  datasource(id: $id, name: $name) {\\n    id\\n    name\\n    rootUrl\\n    integrationStatus\\n    preprocessingStatus\\n    metadataFields {\\n      name\\n      valueType\\n      multiple\\n      tags\\n    }\\n    type\\n  }\\n}\", \"variables\": {\"id\": 5799, \"name\": \"processed\"}}\n",
      "INFO:gql.transport.requests:<<< {\"data\":{\"datasource\":[{\"id\":5799,\"name\":\"processed\",\"rootUrl\":\"repo://michelpf/fiap-ds-mlops-10dtsr-laptop-pricing-brl/main:data/processed\",\"integrationStatus\":\"VALID\",\"preprocessingStatus\":\"READY\",\"metadataFields\":[{\"name\":\"size\",\"valueType\":\"INTEGER\",\"multiple\":false,\"tags\":null},{\"name\":\"media type\",\"valueType\":\"STRING\",\"multiple\":false,\"tags\":null}],\"type\":\"REPOSITORY\"}]}}\n"
>>>>>>> 6820d8e6b4a932637a73c1dda21ad81c69186b04
     ]
    },
    {
     "data": {
      "application/vnd.jupyter.widget-view+json": {
<<<<<<< HEAD
       "model_id": "600b90bacab946429f6058b56c57aad6",
=======
       "model_id": "6d355cdf600246b8906e0d11e5a33eef",
>>>>>>> 6820d8e6b4a932637a73c1dda21ad81c69186b04
       "version_major": 2,
       "version_minor": 0
      },
      "text/plain": [
       "Output()"
      ]
     },
     "metadata": {},
     "output_type": "display_data"
    },
    {
     "name": "stderr",
     "output_type": "stream",
     "text": [
<<<<<<< HEAD
      "INFO:httpx:HTTP Request: GET https://dagshub.com/api/v1/repos/luciancsilva/fiap-10dtsr-mlops-trabalho-final \"HTTP/1.1 200 OK\"\n",
      "INFO:gql.transport.requests:>>> {\"query\": \"query datasourceQuery($datasource: ID!, $queryInput: QueryInput, $first: Int, $after: String) {\\n  datasourceQuery(\\n    datasource: $datasource\\n    filter: $queryInput\\n    first: $first\\n    after: $after\\n  ) {\\n    edges {\\n      node {\\n        id\\n        path\\n        metadata {\\n          key\\n          value\\n          timeZone\\n        }\\n      }\\n    }\\n    pageInfo {\\n      hasNextPage\\n      endCursor\\n    }\\n    queryDataTime\\n    selectFields {\\n      name\\n      originalName\\n      autoGenerated\\n      valueType\\n      asOf\\n      multiple\\n      tags\\n    }\\n  }\\n}\", \"variables\": {\"datasource\": 6139, \"queryInput\": {\"query\": null}, \"first\": 5000, \"after\": null}}\n"
=======
      "INFO:httpx:HTTP Request: GET https://dagshub.com/api/v1/repos/michelpf/fiap-ds-mlops-10dtsr-laptop-pricing-brl \"HTTP/1.1 200 OK\"\n",
      "INFO:gql.transport.requests:>>> {\"query\": \"query datasourceQuery($datasource: ID!, $queryInput: QueryInput, $first: Int, $after: String) {\\n  datasourceQuery(\\n    datasource: $datasource\\n    filter: $queryInput\\n    first: $first\\n    after: $after\\n  ) {\\n    edges {\\n      node {\\n        id\\n        path\\n        metadata {\\n          key\\n          value\\n          timeZone\\n        }\\n      }\\n    }\\n    pageInfo {\\n      hasNextPage\\n      endCursor\\n    }\\n    queryDataTime\\n    selectFields {\\n      name\\n      originalName\\n      autoGenerated\\n      valueType\\n      asOf\\n      multiple\\n      tags\\n    }\\n  }\\n}\", \"variables\": {\"datasource\": 5799, \"queryInput\": {\"query\": null}, \"first\": 5000, \"after\": null}}\n"
>>>>>>> 6820d8e6b4a932637a73c1dda21ad81c69186b04
     ]
    },
    {
     "name": "stderr",
     "output_type": "stream",
     "text": [
      "INFO:httpx:HTTP Request: POST https://dagshub.com/api/internal/trackAnalyticsEvent \"HTTP/1.1 200 OK\"\n"
     ]
    },
    {
     "name": "stderr",
     "output_type": "stream",
     "text": [
<<<<<<< HEAD
      "INFO:gql.transport.requests:<<< {\"data\":{\"datasourceQuery\":{\"edges\":[{\"node\":{\"id\":103597804,\"path\":\"credit-score.csv\",\"metadata\":[{\"key\":\"media type\",\"value\":\"text/plain\",\"timeZone\":\"\"},{\"key\":\"size\",\"value\":27051762,\"timeZone\":\"\"}]}}],\"pageInfo\":{\"hasNextPage\":false,\"endCursor\":null},\"queryDataTime\":1754259477,\"selectFields\":[{\"name\":\"media type\",\"originalName\":\"media type\",\"autoGenerated\":true,\"valueType\":\"STRING\",\"asOf\":null,\"multiple\":false,\"tags\":null},{\"name\":\"size\",\"originalName\":\"size\",\"autoGenerated\":true,\"valueType\":\"INTEGER\",\"asOf\":null,\"multiple\":false,\"tags\":null}]}}}\n"
=======
      "INFO:gql.transport.requests:<<< {\"data\":{\"datasourceQuery\":{\"edges\":[{\"node\":{\"id\":102330336,\"path\":\"laptop-price-brl-processed.csv\",\"metadata\":[{\"key\":\"media type\",\"value\":\"text/plain\",\"timeZone\":\"\"},{\"key\":\"size\",\"value\":51778,\"timeZone\":\"\"}]}}],\"pageInfo\":{\"hasNextPage\":false,\"endCursor\":null},\"queryDataTime\":1751074929,\"selectFields\":[{\"name\":\"media type\",\"originalName\":\"media type\",\"autoGenerated\":true,\"valueType\":\"STRING\",\"asOf\":null,\"multiple\":false,\"tags\":null},{\"name\":\"size\",\"originalName\":\"size\",\"autoGenerated\":true,\"valueType\":\"INTEGER\",\"asOf\":null,\"multiple\":false,\"tags\":null}]}}}\n"
>>>>>>> 6820d8e6b4a932637a73c1dda21ad81c69186b04
     ]
    },
    {
     "data": {
      "text/html": [
       "<pre style=\"white-space:pre;overflow-x:auto;line-height:normal;font-family:Menlo,'DejaVu Sans Mono',consolas,'Courier New',monospace\"></pre>\n"
      ],
      "text/plain": []
     },
     "metadata": {},
     "output_type": "display_data"
    },
    {
     "data": {
      "text/html": [
       "<div>\n",
       "<style scoped>\n",
       "    .dataframe tbody tr th:only-of-type {\n",
       "        vertical-align: middle;\n",
       "    }\n",
       "\n",
       "    .dataframe tbody tr th {\n",
       "        vertical-align: top;\n",
       "    }\n",
       "\n",
       "    .dataframe thead th {\n",
       "        text-align: right;\n",
       "    }\n",
       "</style>\n",
       "<table border=\"1\" class=\"dataframe\">\n",
       "  <thead>\n",
       "    <tr style=\"text-align: right;\">\n",
       "      <th></th>\n",
       "      <th>path</th>\n",
       "      <th>datapoint_id</th>\n",
       "      <th>dagshub_download_url</th>\n",
       "      <th>media type</th>\n",
       "      <th>size</th>\n",
       "    </tr>\n",
       "  </thead>\n",
       "  <tbody>\n",
       "    <tr>\n",
       "      <th>0</th>\n",
<<<<<<< HEAD
       "      <td>credit-score.csv</td>\n",
       "      <td>103597804</td>\n",
       "      <td>https://dagshub.com/api/v1/repos/luciancsilva/...</td>\n",
       "      <td>text/plain</td>\n",
       "      <td>27051762</td>\n",
=======
       "      <td>laptop-price-brl-processed.csv</td>\n",
       "      <td>102330336</td>\n",
       "      <td>https://dagshub.com/api/v1/repos/michelpf/fiap...</td>\n",
       "      <td>text/plain</td>\n",
       "      <td>51778</td>\n",
>>>>>>> 6820d8e6b4a932637a73c1dda21ad81c69186b04
       "    </tr>\n",
       "  </tbody>\n",
       "</table>\n",
       "</div>"
      ],
      "text/plain": [
<<<<<<< HEAD
       "               path  datapoint_id  \\\n",
       "0  credit-score.csv     103597804   \n",
       "\n",
       "                                dagshub_download_url  media type      size  \n",
       "0  https://dagshub.com/api/v1/repos/luciancsilva/...  text/plain  27051762  "
      ]
     },
     "execution_count": 80,
=======
       "                             path  datapoint_id  \\\n",
       "0  laptop-price-brl-processed.csv     102330336   \n",
       "\n",
       "                                dagshub_download_url  media type   size  \n",
       "0  https://dagshub.com/api/v1/repos/michelpf/fiap...  text/plain  51778  "
      ]
     },
     "execution_count": 23,
>>>>>>> 6820d8e6b4a932637a73c1dda21ad81c69186b04
     "metadata": {},
     "output_type": "execute_result"
    }
   ],
   "source": [
    "ds.all().dataframe"
   ]
  },
  {
   "cell_type": "code",
<<<<<<< HEAD
   "execution_count": 81,
   "id": "c3e29019",
=======
   "execution_count": 24,
   "id": "3b1113b7",
>>>>>>> 6820d8e6b4a932637a73c1dda21ad81c69186b04
   "metadata": {},
   "outputs": [
    {
     "name": "stderr",
     "output_type": "stream",
     "text": [
<<<<<<< HEAD
      "INFO:gql.transport.requests:>>> {\"query\": \"query datasource($id: ID, $name: String) {\\n  datasource(id: $id, name: $name) {\\n    id\\n    name\\n    rootUrl\\n    integrationStatus\\n    preprocessingStatus\\n    metadataFields {\\n      name\\n      valueType\\n      multiple\\n      tags\\n    }\\n    type\\n  }\\n}\", \"variables\": {\"id\": 6139, \"name\": \"processed\"}}\n",
      "INFO:gql.transport.requests:<<< {\"data\":{\"datasource\":[{\"id\":6139,\"name\":\"processed\",\"rootUrl\":\"repo://luciancsilva/fiap-10dtsr-mlops-trabalho-final/main:data/processed\",\"integrationStatus\":\"VALID\",\"preprocessingStatus\":\"READY\",\"metadataFields\":[{\"name\":\"size\",\"valueType\":\"INTEGER\",\"multiple\":false,\"tags\":null},{\"name\":\"media type\",\"valueType\":\"STRING\",\"multiple\":false,\"tags\":null}],\"type\":\"REPOSITORY\"}]}}\n"
=======
      "INFO:gql.transport.requests:>>> {\"query\": \"query datasource($id: ID, $name: String) {\\n  datasource(id: $id, name: $name) {\\n    id\\n    name\\n    rootUrl\\n    integrationStatus\\n    preprocessingStatus\\n    metadataFields {\\n      name\\n      valueType\\n      multiple\\n      tags\\n    }\\n    type\\n  }\\n}\", \"variables\": {\"id\": 5799, \"name\": \"processed\"}}\n",
      "INFO:gql.transport.requests:<<< {\"data\":{\"datasource\":[{\"id\":5799,\"name\":\"processed\",\"rootUrl\":\"repo://michelpf/fiap-ds-mlops-10dtsr-laptop-pricing-brl/main:data/processed\",\"integrationStatus\":\"VALID\",\"preprocessingStatus\":\"READY\",\"metadataFields\":[{\"name\":\"size\",\"valueType\":\"INTEGER\",\"multiple\":false,\"tags\":null},{\"name\":\"media type\",\"valueType\":\"STRING\",\"multiple\":false,\"tags\":null}],\"type\":\"REPOSITORY\"}]}}\n"
>>>>>>> 6820d8e6b4a932637a73c1dda21ad81c69186b04
     ]
    },
    {
     "data": {
      "application/vnd.jupyter.widget-view+json": {
<<<<<<< HEAD
       "model_id": "3a6a21141b00496a86d2b3a9ac4aa692",
=======
       "model_id": "abadfb352109485eaefa99232e29b032",
>>>>>>> 6820d8e6b4a932637a73c1dda21ad81c69186b04
       "version_major": 2,
       "version_minor": 0
      },
      "text/plain": [
       "Output()"
      ]
     },
     "metadata": {},
     "output_type": "display_data"
    },
    {
     "name": "stderr",
     "output_type": "stream",
     "text": [
<<<<<<< HEAD
      "INFO:gql.transport.requests:>>> {\"query\": \"query datasourceQuery($datasource: ID!, $queryInput: QueryInput, $first: Int, $after: String) {\\n  datasourceQuery(\\n    datasource: $datasource\\n    filter: $queryInput\\n    first: $first\\n    after: $after\\n  ) {\\n    edges {\\n      node {\\n        id\\n        path\\n        metadata {\\n          key\\n          value\\n          timeZone\\n        }\\n      }\\n    }\\n    pageInfo {\\n      hasNextPage\\n      endCursor\\n    }\\n    queryDataTime\\n    selectFields {\\n      name\\n      originalName\\n      autoGenerated\\n      valueType\\n      asOf\\n      multiple\\n      tags\\n    }\\n  }\\n}\", \"variables\": {\"datasource\": 6139, \"queryInput\": {\"query\": null}, \"first\": 100, \"after\": null}}\n"
=======
      "INFO:gql.transport.requests:>>> {\"query\": \"query datasourceQuery($datasource: ID!, $queryInput: QueryInput, $first: Int, $after: String) {\\n  datasourceQuery(\\n    datasource: $datasource\\n    filter: $queryInput\\n    first: $first\\n    after: $after\\n  ) {\\n    edges {\\n      node {\\n        id\\n        path\\n        metadata {\\n          key\\n          value\\n          timeZone\\n        }\\n      }\\n    }\\n    pageInfo {\\n      hasNextPage\\n      endCursor\\n    }\\n    queryDataTime\\n    selectFields {\\n      name\\n      originalName\\n      autoGenerated\\n      valueType\\n      asOf\\n      multiple\\n      tags\\n    }\\n  }\\n}\", \"variables\": {\"datasource\": 5799, \"queryInput\": {\"query\": null}, \"first\": 100, \"after\": null}}\n"
>>>>>>> 6820d8e6b4a932637a73c1dda21ad81c69186b04
     ]
    },
    {
     "name": "stderr",
     "output_type": "stream",
     "text": [
      "INFO:httpx:HTTP Request: POST https://dagshub.com/api/internal/trackAnalyticsEvent \"HTTP/1.1 200 OK\"\n",
<<<<<<< HEAD
      "INFO:httpx:HTTP Request: POST https://dagshub.com/api/internal/trackAnalyticsEvent \"HTTP/1.1 200 OK\"\n",
      "INFO:gql.transport.requests:<<< {\"data\":{\"datasourceQuery\":{\"edges\":[{\"node\":{\"id\":103597804,\"path\":\"credit-score.csv\",\"metadata\":[{\"key\":\"media type\",\"value\":\"text/plain\",\"timeZone\":\"\"},{\"key\":\"size\",\"value\":27051762,\"timeZone\":\"\"}]}}],\"pageInfo\":{\"hasNextPage\":false,\"endCursor\":null},\"queryDataTime\":1754259478,\"selectFields\":[{\"name\":\"media type\",\"originalName\":\"media type\",\"autoGenerated\":true,\"valueType\":\"STRING\",\"asOf\":null,\"multiple\":false,\"tags\":null},{\"name\":\"size\",\"originalName\":\"size\",\"autoGenerated\":true,\"valueType\":\"INTEGER\",\"asOf\":null,\"multiple\":false,\"tags\":null}]}}}\n"
=======
      "INFO:httpx:HTTP Request: POST https://dagshub.com/api/internal/trackAnalyticsEvent \"HTTP/1.1 200 OK\"\n"
     ]
    },
    {
     "name": "stderr",
     "output_type": "stream",
     "text": [
      "INFO:gql.transport.requests:<<< {\"data\":{\"datasourceQuery\":{\"edges\":[{\"node\":{\"id\":102330336,\"path\":\"laptop-price-brl-processed.csv\",\"metadata\":[{\"key\":\"media type\",\"value\":\"text/plain\",\"timeZone\":\"\"},{\"key\":\"size\",\"value\":51778,\"timeZone\":\"\"}]}}],\"pageInfo\":{\"hasNextPage\":false,\"endCursor\":null},\"queryDataTime\":1751074932,\"selectFields\":[{\"name\":\"media type\",\"originalName\":\"media type\",\"autoGenerated\":true,\"valueType\":\"STRING\",\"asOf\":null,\"multiple\":false,\"tags\":null},{\"name\":\"size\",\"originalName\":\"size\",\"autoGenerated\":true,\"valueType\":\"INTEGER\",\"asOf\":null,\"multiple\":false,\"tags\":null}]}}}\n"
>>>>>>> 6820d8e6b4a932637a73c1dda21ad81c69186b04
     ]
    },
    {
     "data": {
      "text/html": [
       "<pre style=\"white-space:pre;overflow-x:auto;line-height:normal;font-family:Menlo,'DejaVu Sans Mono',consolas,'Courier New',monospace\"></pre>\n"
      ],
      "text/plain": []
     },
     "metadata": {},
     "output_type": "display_data"
    }
   ],
   "source": [
    "res = ds.head()\n",
    "\n",
    "for dp in res:\n",
    "    dataset_url = dp.download_url"
   ]
  },
  {
   "cell_type": "code",
<<<<<<< HEAD
   "execution_count": 82,
   "id": "b9858663",
=======
   "execution_count": 26,
   "id": "fd8a21fe",
>>>>>>> 6820d8e6b4a932637a73c1dda21ad81c69186b04
   "metadata": {},
   "outputs": [
    {
     "data": {
      "text/plain": [
<<<<<<< HEAD
       "'https://dagshub.com/api/v1/repos/luciancsilva/fiap-10dtsr-mlops-trabalho-final/raw/main/data/processed/credit-score.csv'"
      ]
     },
     "execution_count": 82,
=======
       "'https://dagshub.com/api/v1/repos/michelpf/fiap-ds-mlops-10dtsr-laptop-pricing-brl/raw/main/data/processed/laptop-price-brl-processed.csv'"
      ]
     },
     "execution_count": 26,
>>>>>>> 6820d8e6b4a932637a73c1dda21ad81c69186b04
     "metadata": {},
     "output_type": "execute_result"
    }
   ],
   "source": [
    "dataset_url"
   ]
  },
  {
   "cell_type": "code",
<<<<<<< HEAD
   "execution_count": 83,
   "id": "3304a8ec",
=======
   "execution_count": 27,
   "id": "0f96ad7c",
>>>>>>> 6820d8e6b4a932637a73c1dda21ad81c69186b04
   "metadata": {},
   "outputs": [
    {
     "data": {
      "text/html": [
       "<div>\n",
       "<style scoped>\n",
       "    .dataframe tbody tr th:only-of-type {\n",
       "        vertical-align: middle;\n",
       "    }\n",
       "\n",
       "    .dataframe tbody tr th {\n",
       "        vertical-align: top;\n",
       "    }\n",
       "\n",
       "    .dataframe thead th {\n",
       "        text-align: right;\n",
       "    }\n",
       "</style>\n",
       "<table border=\"1\" class=\"dataframe\">\n",
       "  <thead>\n",
       "    <tr style=\"text-align: right;\">\n",
       "      <th></th>\n",
<<<<<<< HEAD
       "      <th>ID</th>\n",
       "      <th>Customer_ID</th>\n",
       "      <th>Month</th>\n",
       "      <th>Age</th>\n",
       "      <th>Occupation</th>\n",
       "      <th>Annual_Income</th>\n",
       "      <th>Monthly_Inhand_Salary</th>\n",
       "      <th>Num_Bank_Accounts</th>\n",
       "      <th>Num_Credit_Card</th>\n",
       "      <th>Interest_Rate</th>\n",
       "      <th>...</th>\n",
       "      <th>Auto_Loan</th>\n",
       "      <th>Credit-Builder_Loan</th>\n",
       "      <th>Personal_Loan</th>\n",
       "      <th>Home_Equity_Loan</th>\n",
       "      <th>Not_Specified</th>\n",
       "      <th>Mortgage_Loan</th>\n",
       "      <th>Student_Loan</th>\n",
       "      <th>Debt_Consolidation_Loan</th>\n",
       "      <th>Payday_Loan</th>\n",
       "      <th>Missed_Payment_Day</th>\n",
=======
       "      <th>ram_gb</th>\n",
       "      <th>ssd</th>\n",
       "      <th>hdd</th>\n",
       "      <th>graphic_card_gb</th>\n",
       "      <th>warranty</th>\n",
       "      <th>price</th>\n",
       "      <th>brand_asus</th>\n",
       "      <th>brand_dell</th>\n",
       "      <th>brand_hp</th>\n",
       "      <th>brand_lenovo</th>\n",
       "      <th>...</th>\n",
       "      <th>ram_type_other</th>\n",
       "      <th>os_other</th>\n",
       "      <th>os_windows</th>\n",
       "      <th>os_bit_32-bit</th>\n",
       "      <th>os_bit_64-bit</th>\n",
       "      <th>weight_casual</th>\n",
       "      <th>weight_gaming</th>\n",
       "      <th>weight_thinnlight</th>\n",
       "      <th>touchscreen_0</th>\n",
       "      <th>touchscreen_1</th>\n",
>>>>>>> 6820d8e6b4a932637a73c1dda21ad81c69186b04
       "    </tr>\n",
       "  </thead>\n",
       "  <tbody>\n",
       "    <tr>\n",
       "      <th>0</th>\n",
<<<<<<< HEAD
       "      <td>0x1602</td>\n",
       "      <td>CUS_0xd40</td>\n",
       "      <td>1</td>\n",
       "      <td>23.0</td>\n",
       "      <td>Scientist</td>\n",
       "      <td>19114.12</td>\n",
       "      <td>1824.843333</td>\n",
       "      <td>3.0</td>\n",
       "      <td>4.0</td>\n",
       "      <td>3.0</td>\n",
       "      <td>...</td>\n",
       "      <td>1</td>\n",
       "      <td>1</td>\n",
=======
       "      <td>4</td>\n",
       "      <td>0</td>\n",
       "      <td>1024</td>\n",
       "      <td>0</td>\n",
       "      <td>0</td>\n",
       "      <td>2321</td>\n",
       "      <td>1</td>\n",
       "      <td>0</td>\n",
       "      <td>0</td>\n",
       "      <td>0</td>\n",
       "      <td>...</td>\n",
       "      <td>0</td>\n",
       "      <td>0</td>\n",
       "      <td>1</td>\n",
       "      <td>0</td>\n",
>>>>>>> 6820d8e6b4a932637a73c1dda21ad81c69186b04
       "      <td>1</td>\n",
       "      <td>1</td>\n",
       "      <td>0</td>\n",
       "      <td>0</td>\n",
<<<<<<< HEAD
       "      <td>0</td>\n",
       "      <td>0</td>\n",
       "      <td>0</td>\n",
       "      <td>1</td>\n",
       "    </tr>\n",
       "    <tr>\n",
       "      <th>1</th>\n",
       "      <td>0x1603</td>\n",
       "      <td>CUS_0xd40</td>\n",
       "      <td>2</td>\n",
       "      <td>23.0</td>\n",
       "      <td>Scientist</td>\n",
       "      <td>19114.12</td>\n",
       "      <td>1824.843333</td>\n",
       "      <td>3.0</td>\n",
       "      <td>4.0</td>\n",
       "      <td>3.0</td>\n",
       "      <td>...</td>\n",
       "      <td>1</td>\n",
       "      <td>1</td>\n",
=======
       "      <td>1</td>\n",
       "      <td>0</td>\n",
       "    </tr>\n",
       "    <tr>\n",
       "      <th>1</th>\n",
       "      <td>4</td>\n",
       "      <td>0</td>\n",
       "      <td>1024</td>\n",
       "      <td>0</td>\n",
       "      <td>0</td>\n",
       "      <td>2613</td>\n",
       "      <td>0</td>\n",
       "      <td>0</td>\n",
       "      <td>0</td>\n",
       "      <td>1</td>\n",
       "      <td>...</td>\n",
       "      <td>0</td>\n",
       "      <td>0</td>\n",
       "      <td>1</td>\n",
       "      <td>0</td>\n",
>>>>>>> 6820d8e6b4a932637a73c1dda21ad81c69186b04
       "      <td>1</td>\n",
       "      <td>1</td>\n",
       "      <td>0</td>\n",
       "      <td>0</td>\n",
<<<<<<< HEAD
       "      <td>0</td>\n",
       "      <td>0</td>\n",
       "      <td>0</td>\n",
=======
       "      <td>1</td>\n",
>>>>>>> 6820d8e6b4a932637a73c1dda21ad81c69186b04
       "      <td>0</td>\n",
       "    </tr>\n",
       "    <tr>\n",
       "      <th>2</th>\n",
<<<<<<< HEAD
       "      <td>0x1604</td>\n",
       "      <td>CUS_0xd40</td>\n",
       "      <td>3</td>\n",
       "      <td>23.0</td>\n",
       "      <td>Scientist</td>\n",
       "      <td>19114.12</td>\n",
       "      <td>1824.843333</td>\n",
       "      <td>3.0</td>\n",
       "      <td>4.0</td>\n",
       "      <td>3.0</td>\n",
       "      <td>...</td>\n",
       "      <td>1</td>\n",
       "      <td>1</td>\n",
=======
       "      <td>4</td>\n",
       "      <td>0</td>\n",
       "      <td>1024</td>\n",
       "      <td>0</td>\n",
       "      <td>0</td>\n",
       "      <td>2680</td>\n",
       "      <td>0</td>\n",
       "      <td>0</td>\n",
       "      <td>0</td>\n",
       "      <td>1</td>\n",
       "      <td>...</td>\n",
       "      <td>0</td>\n",
       "      <td>0</td>\n",
       "      <td>1</td>\n",
       "      <td>0</td>\n",
>>>>>>> 6820d8e6b4a932637a73c1dda21ad81c69186b04
       "      <td>1</td>\n",
       "      <td>1</td>\n",
       "      <td>0</td>\n",
       "      <td>0</td>\n",
<<<<<<< HEAD
       "      <td>0</td>\n",
       "      <td>0</td>\n",
       "      <td>0</td>\n",
       "      <td>1</td>\n",
       "    </tr>\n",
       "    <tr>\n",
       "      <th>3</th>\n",
       "      <td>0x1605</td>\n",
       "      <td>CUS_0xd40</td>\n",
       "      <td>4</td>\n",
       "      <td>23.0</td>\n",
       "      <td>Scientist</td>\n",
       "      <td>19114.12</td>\n",
       "      <td>1824.843333</td>\n",
       "      <td>3.0</td>\n",
       "      <td>4.0</td>\n",
       "      <td>3.0</td>\n",
       "      <td>...</td>\n",
       "      <td>1</td>\n",
       "      <td>1</td>\n",
       "      <td>1</td>\n",
       "      <td>1</td>\n",
       "      <td>0</td>\n",
       "      <td>0</td>\n",
       "      <td>0</td>\n",
       "      <td>0</td>\n",
       "      <td>0</td>\n",
       "      <td>1</td>\n",
       "    </tr>\n",
       "    <tr>\n",
       "      <th>4</th>\n",
       "      <td>0x1606</td>\n",
       "      <td>CUS_0xd40</td>\n",
       "      <td>5</td>\n",
       "      <td>23.0</td>\n",
       "      <td>Scientist</td>\n",
       "      <td>19114.12</td>\n",
       "      <td>1824.843333</td>\n",
       "      <td>3.0</td>\n",
       "      <td>4.0</td>\n",
       "      <td>3.0</td>\n",
       "      <td>...</td>\n",
       "      <td>1</td>\n",
       "      <td>1</td>\n",
=======
       "      <td>1</td>\n",
       "      <td>0</td>\n",
       "    </tr>\n",
       "    <tr>\n",
       "      <th>3</th>\n",
       "      <td>8</td>\n",
       "      <td>512</td>\n",
       "      <td>0</td>\n",
       "      <td>2</td>\n",
       "      <td>0</td>\n",
       "      <td>4689</td>\n",
       "      <td>1</td>\n",
       "      <td>0</td>\n",
       "      <td>0</td>\n",
       "      <td>0</td>\n",
       "      <td>...</td>\n",
       "      <td>0</td>\n",
       "      <td>0</td>\n",
       "      <td>1</td>\n",
       "      <td>1</td>\n",
       "      <td>0</td>\n",
       "      <td>1</td>\n",
       "      <td>0</td>\n",
       "      <td>0</td>\n",
       "      <td>1</td>\n",
       "      <td>0</td>\n",
       "    </tr>\n",
       "    <tr>\n",
       "      <th>4</th>\n",
       "      <td>4</td>\n",
       "      <td>0</td>\n",
       "      <td>512</td>\n",
       "      <td>0</td>\n",
       "      <td>0</td>\n",
       "      <td>1808</td>\n",
       "      <td>1</td>\n",
       "      <td>0</td>\n",
       "      <td>0</td>\n",
       "      <td>0</td>\n",
       "      <td>...</td>\n",
       "      <td>0</td>\n",
       "      <td>0</td>\n",
       "      <td>1</td>\n",
       "      <td>0</td>\n",
>>>>>>> 6820d8e6b4a932637a73c1dda21ad81c69186b04
       "      <td>1</td>\n",
       "      <td>1</td>\n",
       "      <td>0</td>\n",
       "      <td>0</td>\n",
<<<<<<< HEAD
       "      <td>0</td>\n",
       "      <td>0</td>\n",
       "      <td>0</td>\n",
       "      <td>1</td>\n",
       "    </tr>\n",
       "  </tbody>\n",
       "</table>\n",
       "<p>5 rows × 35 columns</p>\n",
       "</div>"
      ],
      "text/plain": [
       "       ID Customer_ID  Month   Age Occupation  Annual_Income  \\\n",
       "0  0x1602   CUS_0xd40      1  23.0  Scientist       19114.12   \n",
       "1  0x1603   CUS_0xd40      2  23.0  Scientist       19114.12   \n",
       "2  0x1604   CUS_0xd40      3  23.0  Scientist       19114.12   \n",
       "3  0x1605   CUS_0xd40      4  23.0  Scientist       19114.12   \n",
       "4  0x1606   CUS_0xd40      5  23.0  Scientist       19114.12   \n",
       "\n",
       "   Monthly_Inhand_Salary  Num_Bank_Accounts  Num_Credit_Card  Interest_Rate  \\\n",
       "0            1824.843333                3.0              4.0            3.0   \n",
       "1            1824.843333                3.0              4.0            3.0   \n",
       "2            1824.843333                3.0              4.0            3.0   \n",
       "3            1824.843333                3.0              4.0            3.0   \n",
       "4            1824.843333                3.0              4.0            3.0   \n",
       "\n",
       "   ...  Auto_Loan Credit-Builder_Loan  Personal_Loan  Home_Equity_Loan  \\\n",
       "0  ...          1                   1              1                 1   \n",
       "1  ...          1                   1              1                 1   \n",
       "2  ...          1                   1              1                 1   \n",
       "3  ...          1                   1              1                 1   \n",
       "4  ...          1                   1              1                 1   \n",
       "\n",
       "   Not_Specified  Mortgage_Loan  Student_Loan  Debt_Consolidation_Loan  \\\n",
       "0              0              0             0                        0   \n",
       "1              0              0             0                        0   \n",
       "2              0              0             0                        0   \n",
       "3              0              0             0                        0   \n",
       "4              0              0             0                        0   \n",
       "\n",
       "   Payday_Loan Missed_Payment_Day  \n",
       "0            0                  1  \n",
       "1            0                  0  \n",
       "2            0                  1  \n",
       "3            0                  1  \n",
       "4            0                  1  \n",
       "\n",
       "[5 rows x 35 columns]"
      ]
     },
     "execution_count": 83,
=======
       "      <td>1</td>\n",
       "      <td>0</td>\n",
       "    </tr>\n",
       "  </tbody>\n",
       "</table>\n",
       "<p>5 rows × 31 columns</p>\n",
       "</div>"
      ],
      "text/plain": [
       "   ram_gb  ssd   hdd  graphic_card_gb  warranty  price  brand_asus  \\\n",
       "0       4    0  1024                0         0   2321           1   \n",
       "1       4    0  1024                0         0   2613           0   \n",
       "2       4    0  1024                0         0   2680           0   \n",
       "3       8  512     0                2         0   4689           1   \n",
       "4       4    0   512                0         0   1808           1   \n",
       "\n",
       "   brand_dell  brand_hp  brand_lenovo  ...  ram_type_other  os_other  \\\n",
       "0           0         0             0  ...               0         0   \n",
       "1           0         0             1  ...               0         0   \n",
       "2           0         0             1  ...               0         0   \n",
       "3           0         0             0  ...               0         0   \n",
       "4           0         0             0  ...               0         0   \n",
       "\n",
       "   os_windows  os_bit_32-bit  os_bit_64-bit  weight_casual  weight_gaming  \\\n",
       "0           1              0              1              1              0   \n",
       "1           1              0              1              1              0   \n",
       "2           1              0              1              1              0   \n",
       "3           1              1              0              1              0   \n",
       "4           1              0              1              1              0   \n",
       "\n",
       "   weight_thinnlight  touchscreen_0  touchscreen_1  \n",
       "0                  0              1              0  \n",
       "1                  0              1              0  \n",
       "2                  0              1              0  \n",
       "3                  0              1              0  \n",
       "4                  0              1              0  \n",
       "\n",
       "[5 rows x 31 columns]"
      ]
     },
     "execution_count": 27,
>>>>>>> 6820d8e6b4a932637a73c1dda21ad81c69186b04
     "metadata": {},
     "output_type": "execute_result"
    }
   ],
   "source": [
    "df = pd.read_csv(dataset_url)\n",
    "df.head()"
   ]
  },
  {
   "cell_type": "markdown",
<<<<<<< HEAD
   "id": "bc52ff42",
   "metadata": {},
   "source": [
    "## Verificação e ajuste do Credit_Score para classificação (-1, 0, 1)"
   ]
  },
  {
   "cell_type": "code",
   "execution_count": 84,
   "id": "511768d0",
   "metadata": {},
   "outputs": [
    {
     "name": "stdout",
     "output_type": "stream",
     "text": [
      "Valores únicos no Credit_Score antes do ajuste:\n",
      "[ 1  0 -1]\n",
      "Tipo atual: int64\n",
      "\n",
      "Valores únicos no Credit_Score após ajuste:\n",
      "[ 1  0 -1]\n",
      "Distribuição do Credit_Score:\n",
      "Credit_Score\n",
      "-1    28998\n",
      " 0    53174\n",
      " 1    17828\n",
      "Name: count, dtype: int64\n"
     ]
    }
   ],
   "source": [
    "# Verificar os valores únicos atuais do Credit_Score\n",
    "print(\"Valores únicos no Credit_Score antes do ajuste:\")\n",
    "print(df['Credit_Score'].unique())\n",
    "print(\"Tipo atual:\", df['Credit_Score'].dtype)\n",
    "\n",
    "# Se os valores já são -1, 0, 1, apenas garantir que seja int64\n",
    "# Se são strings como 'Poor', 'Standard', 'Good', mapear para -1, 0, 1\n",
    "if df['Credit_Score'].dtype == 'object':\n",
    "    # Mapear strings para valores numéricos (ajuste conforme seus dados)\n",
    "    credit_score_map = {\n",
    "        'Poor': -1, \n",
    "        'Standard': 0, \n",
    "        'Good': 1\n",
    "    }\n",
    "    df['Credit_Score'] = df['Credit_Score'].map(credit_score_map)\n",
    "\n",
    "# Garantir que seja int64\n",
    "df['Credit_Score'] = df['Credit_Score'].astype('int64')\n",
    "\n",
    "print(\"\\nValores únicos no Credit_Score após ajuste:\")\n",
    "print(df['Credit_Score'].unique())\n",
    "print(\"Distribuição do Credit_Score:\")\n",
    "print(df['Credit_Score'].value_counts().sort_index())"
   ]
  },
  {
   "cell_type": "markdown",
   "id": "8626209c",
=======
   "id": "5f275400",
>>>>>>> 6820d8e6b4a932637a73c1dda21ad81c69186b04
   "metadata": {},
   "source": [
    "## Desenvolvimento e experimentos de modelos"
   ]
  },
  {
   "cell_type": "code",
<<<<<<< HEAD
   "execution_count": 85,
   "id": "ec90a8bd",
=======
   "execution_count": 28,
   "id": "9958e5ed",
>>>>>>> 6820d8e6b4a932637a73c1dda21ad81c69186b04
   "metadata": {},
   "outputs": [
    {
     "name": "stderr",
     "output_type": "stream",
     "text": [
<<<<<<< HEAD
      "INFO:httpx:HTTP Request: GET https://dagshub.com/api/v1/repos/luciancsilva/fiap-10dtsr-mlops-trabalho-final \"HTTP/1.1 200 OK\"\n"
=======
      "INFO:httpx:HTTP Request: GET https://dagshub.com/api/v1/repos/michelpf/fiap-ds-mlops-10dtsr-laptop-pricing-brl \"HTTP/1.1 200 OK\"\n"
>>>>>>> 6820d8e6b4a932637a73c1dda21ad81c69186b04
     ]
    },
    {
     "data": {
      "text/html": [
<<<<<<< HEAD
       "<pre style=\"white-space:pre;overflow-x:auto;line-height:normal;font-family:Menlo,'DejaVu Sans Mono',consolas,'Courier New',monospace\">Initialized MLflow to track repo <span style=\"color: #008000; text-decoration-color: #008000\">\"luciancsilva/fiap-10dtsr-mlops-trabalho-final\"</span>\n",
       "</pre>\n"
      ],
      "text/plain": [
       "Initialized MLflow to track repo \u001b[32m\"luciancsilva/fiap-10dtsr-mlops-trabalho-final\"\u001b[0m\n"
=======
       "<pre style=\"white-space:pre;overflow-x:auto;line-height:normal;font-family:Menlo,'DejaVu Sans Mono',consolas,'Courier New',monospace\">Initialized MLflow to track repo <span style=\"color: #008000; text-decoration-color: #008000\">\"michelpf/fiap-ds-mlops-10dtsr-laptop-pricing-brl\"</span>\n",
       "</pre>\n"
      ],
      "text/plain": [
       "Initialized MLflow to track repo \u001b[32m\"michelpf/fiap-ds-mlops-10dtsr-laptop-pricing-brl\"\u001b[0m\n"
>>>>>>> 6820d8e6b4a932637a73c1dda21ad81c69186b04
      ]
     },
     "metadata": {},
     "output_type": "display_data"
    },
    {
     "name": "stderr",
     "output_type": "stream",
     "text": [
<<<<<<< HEAD
      "INFO:dagshub:Initialized MLflow to track repo \"luciancsilva/fiap-10dtsr-mlops-trabalho-final\"\n"
=======
      "INFO:dagshub:Initialized MLflow to track repo \"michelpf/fiap-ds-mlops-10dtsr-laptop-pricing-brl\"\n"
>>>>>>> 6820d8e6b4a932637a73c1dda21ad81c69186b04
     ]
    },
    {
     "data": {
      "text/html": [
<<<<<<< HEAD
       "<pre style=\"white-space:pre;overflow-x:auto;line-height:normal;font-family:Menlo,'DejaVu Sans Mono',consolas,'Courier New',monospace\">Repository luciancsilva/fiap-10dtsr-mlops-trabalho-final initialized!\n",
       "</pre>\n"
      ],
      "text/plain": [
       "Repository luciancsilva/fiap-10dtsr-mlops-trabalho-final initialized!\n"
=======
       "<pre style=\"white-space:pre;overflow-x:auto;line-height:normal;font-family:Menlo,'DejaVu Sans Mono',consolas,'Courier New',monospace\">Repository michelpf/fiap-ds-mlops-10dtsr-laptop-pricing-brl initialized!\n",
       "</pre>\n"
      ],
      "text/plain": [
       "Repository michelpf/fiap-ds-mlops-10dtsr-laptop-pricing-brl initialized!\n"
>>>>>>> 6820d8e6b4a932637a73c1dda21ad81c69186b04
      ]
     },
     "metadata": {},
     "output_type": "display_data"
    },
    {
     "name": "stderr",
     "output_type": "stream",
     "text": [
<<<<<<< HEAD
      "INFO:dagshub:Repository luciancsilva/fiap-10dtsr-mlops-trabalho-final initialized!\n"
=======
      "INFO:dagshub:Repository michelpf/fiap-ds-mlops-10dtsr-laptop-pricing-brl initialized!\n"
>>>>>>> 6820d8e6b4a932637a73c1dda21ad81c69186b04
     ]
    }
   ],
   "source": [
<<<<<<< HEAD
    "dagshub.init(repo_owner=\"luciancsilva\", repo_name=\"fiap-10dtsr-mlops-trabalho-final\", mlflow=True)"
   ]
  },
  {
   "cell_type": "code",
   "execution_count": 86,
   "id": "6cee907b",
=======
    "dagshub.init(repo_owner=\"michelpf\", repo_name=\"fiap-ds-mlops-10dtsr-laptop-pricing-brl\", mlflow=True)"
   ]
  },
  {
   "cell_type": "markdown",
   "id": "a9ad5d78",
   "metadata": {},
   "source": []
  },
  {
   "cell_type": "code",
   "execution_count": 29,
   "id": "a8f8cc27",
>>>>>>> 6820d8e6b4a932637a73c1dda21ad81c69186b04
   "metadata": {},
   "outputs": [
    {
     "name": "stderr",
     "output_type": "stream",
     "text": [
<<<<<<< HEAD
      "2025/08/03 19:17:59 INFO mlflow.tracking.fluent: Autologging successfully enabled for lightgbm.\n",
      "2025/08/03 19:17:59 INFO mlflow.tracking.fluent: Autologging successfully enabled for sklearn.\n",
      "2025/08/03 19:17:59 INFO mlflow.tracking.fluent: Autologging successfully enabled for xgboost.\n"
=======
      "2025/06/27 22:42:41 INFO mlflow.tracking.fluent: Autologging successfully enabled for lightgbm.\n",
      "2025/06/27 22:42:41 INFO mlflow.tracking.fluent: Autologging successfully enabled for sklearn.\n",
      "2025/06/27 22:42:41 INFO mlflow.tracking.fluent: Autologging successfully enabled for xgboost.\n"
>>>>>>> 6820d8e6b4a932637a73c1dda21ad81c69186b04
     ]
    }
   ],
   "source": [
    "mlflow.autolog()"
   ]
  },
  {
   "cell_type": "code",
<<<<<<< HEAD
   "execution_count": 87,
   "id": "0cc89251",
   "metadata": {},
   "outputs": [],
   "source": [
    "# Usar o LabelEncoder para a coluna 'Payment_of_Min_Amount'\n",
    "le = LabelEncoder()\n",
    "df['Payment_of_Min_Amount'] = le.fit_transform(df['Payment_of_Min_Amount'].astype(str))"
   ]
  },
  {
   "cell_type": "code",
   "execution_count": 88,
   "id": "a91beee2",
=======
   "execution_count": 30,
   "id": "98c6aadc",
>>>>>>> 6820d8e6b4a932637a73c1dda21ad81c69186b04
   "metadata": {},
   "outputs": [
    {
     "data": {
      "text/plain": [
<<<<<<< HEAD
       "['Age',\n",
       " 'Annual_Income',\n",
       " 'Num_Bank_Accounts',\n",
       " 'Num_Credit_Card',\n",
       " 'Num_of_Delayed_Payment',\n",
       " 'Credit_Utilization_Ratio',\n",
       " 'Payment_of_Min_Amount',\n",
       " 'Total_EMI_per_month',\n",
       " 'Credit_History_Age_Formated',\n",
       " 'Auto_Loan',\n",
       " 'Credit-Builder_Loan',\n",
       " 'Personal_Loan',\n",
       " 'Home_Equity_Loan',\n",
       " 'Mortgage_Loan',\n",
       " 'Student_Loan',\n",
       " 'Debt_Consolidation_Loan',\n",
       " 'Payday_Loan',\n",
       " 'Missed_Payment_Day']"
      ]
     },
     "execution_count": 88,
=======
       "['ram_gb',\n",
       " 'ssd',\n",
       " 'hdd',\n",
       " 'graphic_card_gb',\n",
       " 'warranty',\n",
       " 'brand_asus',\n",
       " 'brand_dell',\n",
       " 'brand_hp',\n",
       " 'brand_lenovo',\n",
       " 'brand_other',\n",
       " 'processor_brand_amd',\n",
       " 'processor_brand_intel',\n",
       " 'processor_brand_m1',\n",
       " 'processor_name_core i3',\n",
       " 'processor_name_core i5',\n",
       " 'processor_name_core i7',\n",
       " 'processor_name_other',\n",
       " 'processor_name_ryzen 5',\n",
       " 'processor_name_ryzen 7',\n",
       " 'ram_type_ddr4',\n",
       " 'ram_type_other',\n",
       " 'os_other',\n",
       " 'os_windows',\n",
       " 'os_bit_32-bit',\n",
       " 'os_bit_64-bit',\n",
       " 'weight_casual',\n",
       " 'weight_gaming',\n",
       " 'weight_thinnlight',\n",
       " 'touchscreen_0',\n",
       " 'touchscreen_1']"
      ]
     },
     "execution_count": 30,
>>>>>>> 6820d8e6b4a932637a73c1dda21ad81c69186b04
     "metadata": {},
     "output_type": "execute_result"
    }
   ],
   "source": [
    "features = list(df.columns)\n",
<<<<<<< HEAD
    "features.remove('ID')\n",
    "features.remove('Customer_ID')\n",
    "features.remove('Credit_Score')\n",
    "features.remove('Occupation')\n",
    "features.remove('Monthly_Inhand_Salary')\n",
    "features.remove('Interest_Rate')\n",
    "features.remove('Type_of_Loan')\n",
    "features.remove('Delay_from_due_date')\n",
    "features.remove('Changed_Credit_Limit')\n",
    "features.remove('Num_Credit_Inquiries')\n",
    "features.remove('Credit_Mix')\n",
    "features.remove('Amount_invested_monthly')\n",
    "features.remove('Monthly_Balance')\n",
    "features.remove('Num_of_Loan')\n",
    "features.remove('Outstanding_Debt')\n",
    "features.remove('Not_Specified')\n",
    "features.remove('Month')\n",
=======
    "features.remove(\"price\")\n",
>>>>>>> 6820d8e6b4a932637a73c1dda21ad81c69186b04
    "\n",
    "features"
   ]
  },
  {
   "cell_type": "code",
<<<<<<< HEAD
   "execution_count": 89,
   "id": "8dd3da66",
=======
   "execution_count": 31,
   "id": "9777a167",
>>>>>>> 6820d8e6b4a932637a73c1dda21ad81c69186b04
   "metadata": {},
   "outputs": [],
   "source": [
    "X = df[features]"
   ]
  },
  {
   "cell_type": "code",
<<<<<<< HEAD
   "execution_count": 90,
   "id": "8805fff8",
=======
   "execution_count": 32,
   "id": "676a8159",
>>>>>>> 6820d8e6b4a932637a73c1dda21ad81c69186b04
   "metadata": {},
   "outputs": [
    {
     "data": {
      "text/plain": [
<<<<<<< HEAD
       "18"
      ]
     },
     "execution_count": 90,
=======
       "30"
      ]
     },
     "execution_count": 32,
>>>>>>> 6820d8e6b4a932637a73c1dda21ad81c69186b04
     "metadata": {},
     "output_type": "execute_result"
    }
   ],
   "source": [
    "len(features)"
   ]
  },
  {
   "cell_type": "code",
<<<<<<< HEAD
   "execution_count": 91,
   "id": "0bf19df0",
   "metadata": {},
   "outputs": [
    {
     "name": "stdout",
     "output_type": "stream",
     "text": [
      "Classes únicas: [ 1  0 -1]\n",
      "Tipo do target: int64\n"
     ]
    }
   ],
   "source": [
    "y = df[\"Credit_Score\"]\n",
    "print(\"Classes únicas:\", y.unique())\n",
    "print(\"Tipo do target:\", y.dtype)"
=======
   "execution_count": 33,
   "id": "abbdae63",
   "metadata": {},
   "outputs": [
    {
     "data": {
      "text/plain": [
       "0       2321\n",
       "1       2613\n",
       "2       2680\n",
       "3       4689\n",
       "4       1808\n",
       "       ...  \n",
       "775     9111\n",
       "776     9714\n",
       "777    10049\n",
       "778     9580\n",
       "779     3852\n",
       "Name: price, Length: 780, dtype: int64"
      ]
     },
     "execution_count": 33,
     "metadata": {},
     "output_type": "execute_result"
    }
   ],
   "source": [
    "y = df[\"price\"]\n",
    "y"
>>>>>>> 6820d8e6b4a932637a73c1dda21ad81c69186b04
   ]
  },
  {
   "cell_type": "code",
<<<<<<< HEAD
   "execution_count": 92,
   "id": "a4903fd1",
   "metadata": {},
   "outputs": [],
   "source": [
    "X_train, X_test, y_train, y_test = train_test_split(X, y, test_size=0.3, random_state=42, stratify=y)"
=======
   "execution_count": 34,
   "id": "2950f795",
   "metadata": {},
   "outputs": [],
   "source": [
    "X_train, X_test, y_train, y_test = train_test_split(X, y, test_size=0.3, random_state=42)"
>>>>>>> 6820d8e6b4a932637a73c1dda21ad81c69186b04
   ]
  },
  {
   "cell_type": "code",
<<<<<<< HEAD
   "execution_count": 93,
   "id": "45e608bd",
   "metadata": {
    "lines_to_next_cell": 1
   },
   "outputs": [
    {
     "name": "stdout",
     "output_type": "stream",
     "text": [
      "Mapeamento de classes para XGBoost:\n",
      "Original -> XGBoost\n",
      "-1 -> 0\n",
      "0 -> 1\n",
      "1 -> 2\n",
      "\n",
      "Distribuição y_train original: Credit_Score\n",
      "-1    20299\n",
      " 0    37222\n",
      " 1    12479\n",
      "Name: count, dtype: int64\n",
      "Distribuição y_train_xgb: Credit_Score\n",
      "0    20299\n",
      "1    37222\n",
      "2    12479\n",
      "Name: count, dtype: int64\n"
     ]
    }
   ],
   "source": [
    "# Mapear classes para XGBoost (que espera classes sequenciais começando do 0)\n",
    "class_mapping = {-1: 0, 0: 1, 1: 2}\n",
    "reverse_mapping = {0: -1, 1: 0, 2: 1}\n",
    "\n",
    "# Aplicar mapeamento nos conjuntos de treino e teste\n",
    "y_train_xgb = y_train.map(class_mapping)\n",
    "y_test_xgb = y_test.map(class_mapping)\n",
    "\n",
    "print(\"Mapeamento de classes para XGBoost:\")\n",
    "print(\"Original -> XGBoost\")\n",
    "for orig, xgb in class_mapping.items():\n",
    "    print(f\"{orig} -> {xgb}\")\n",
    "    \n",
    "print(f\"\\nDistribuição y_train original: {y_train.value_counts().sort_index()}\")\n",
    "print(f\"Distribuição y_train_xgb: {y_train_xgb.value_counts().sort_index()}\")"
   ]
  },
  {
   "cell_type": "code",
   "execution_count": 94,
   "id": "e888f792",
   "metadata": {
    "lines_to_next_cell": 1
   },
   "outputs": [],
   "source": [
    "def evaluate_and_log_classification_model(kind, model_name, model, X_test, y_test, y_test_original=None, reverse_mapping=None):\n",
    "    predictions = model.predict(X_test)\n",
    "    \n",
    "    # Se for XGBoost, converter predições de volta para classes originais\n",
    "    if reverse_mapping is not None:\n",
    "        predictions_original = pd.Series(predictions).map(reverse_mapping)\n",
    "        y_test_eval = y_test_original\n",
    "    else:\n",
    "        predictions_original = predictions\n",
    "        y_test_eval = y_test\n",
    "    \n",
    "    probabilities = model.predict_proba(X_test) if hasattr(model, 'predict_proba') else None\n",
    "\n",
    "    accuracy = accuracy_score(y_test_eval, predictions_original)\n",
    "    precision = precision_score(y_test_eval, predictions_original, average='weighted')\n",
    "    recall = recall_score(y_test_eval, predictions_original, average='weighted')\n",
    "    f1 = f1_score(y_test_eval, predictions_original, average='weighted')\n",
    "\n",
    "    mlflow.log_metric(\"Accuracy\", accuracy)\n",
    "    mlflow.log_metric(\"Precision\", precision)\n",
    "    mlflow.log_metric(\"Recall\", recall)\n",
    "    mlflow.log_metric(\"F1_Score\", f1)\n",
    "\n",
    "    # Log classification report\n",
    "    report = classification_report(y_test_eval, predictions_original, output_dict=True)\n",
    "    for class_label, metrics in report.items():\n",
    "        if isinstance(metrics, dict):\n",
    "            for metric_name, value in metrics.items():\n",
    "                mlflow.log_metric(f\"{class_label}_{metric_name}\", value)\n",
    "\n",
    "    signature = infer_signature(X_test, predictions_original)\n",
    "\n",
    "    if kind == \"xgboost\":\n",
=======
   "execution_count": 35,
   "id": "e832f424",
   "metadata": {},
   "outputs": [],
   "source": [
    "def evaluate_and_log_model(kind, model_name, model, X_test, y_test):\n",
    "    predictions = model.predict(X_test)\n",
    "\n",
    "    mse = mean_squared_error(y_test, predictions)\n",
    "    mae = mean_absolute_error(y_test, predictions)\n",
    "    r2 = r2_score(y_test, predictions)\n",
    "    mape = mean_absolute_percentage_error(y_test, predictions)\n",
    "\n",
    "    mlflow.log_metric(\"MSE\", mse)\n",
    "    mlflow.log_metric(\"MAE\", mae)\n",
    "    mlflow.log_metric(\"R2\", r2)\n",
    "    mlflow.log_metric(\"MAPE\", mape)\n",
    "\n",
    "    signature = infer_signature(X_test, predictions)\n",
    "\n",
    "    if kind == \"catboost\":\n",
    "        mlflow.catboost.log_model(model, model_name, signature=signature, input_example=X_test[:5])\n",
    "    elif kind == \"xgboost\":\n",
>>>>>>> 6820d8e6b4a932637a73c1dda21ad81c69186b04
    "        mlflow.xgboost.log_model(model, model_name, signature=signature, input_example=X_test[:5])\n",
    "    elif kind == \"lightgbm\":\n",
    "        mlflow.lightgbm.log_model(model, model_name, signature=signature, input_example=X_test[:5])\n",
    "    else:\n",
    "        mlflow.sklearn.log_model(model, model_name, signature=signature, input_example=X_test[:5])\n",
    "\n",
<<<<<<< HEAD
    "    print(f\"Model {model_name} logged with Accuracy: {accuracy:.4f}, Precision: {precision:.4f}, Recall: {recall:.4f}, F1: {f1:.4f}\")\n",
    "    print(f\"Predições originais (sample): {predictions_original[:10] if reverse_mapping else predictions[:10]}\")"
=======
    "    print(f\"Model {model_name} logged with MSE: {mse}, MAE: {mae}, R2: {r2}, MAPE: {mape}\")"
>>>>>>> 6820d8e6b4a932637a73c1dda21ad81c69186b04
   ]
  },
  {
   "cell_type": "markdown",
<<<<<<< HEAD
   "id": "308e7a1d",
   "metadata": {},
   "source": [
    "### Experimento com Ridge Classifier"
=======
   "id": "3588d524",
   "metadata": {},
   "source": [
    "### Experimento com Ridge Regression"
>>>>>>> 6820d8e6b4a932637a73c1dda21ad81c69186b04
   ]
  },
  {
   "cell_type": "code",
<<<<<<< HEAD
   "execution_count": 95,
   "id": "9d5d6e90",
   "metadata": {},
   "outputs": [
    {
     "name": "stdout",
     "output_type": "stream",
     "text": [
      "Age                            float64\n",
      "Annual_Income                  float64\n",
      "Num_Bank_Accounts              float64\n",
      "Num_Credit_Card                float64\n",
      "Num_of_Delayed_Payment         float64\n",
      "Credit_Utilization_Ratio       float64\n",
      "Payment_of_Min_Amount            int64\n",
      "Total_EMI_per_month            float64\n",
      "Credit_History_Age_Formated    float64\n",
      "Auto_Loan                        int64\n",
      "Credit-Builder_Loan              int64\n",
      "Personal_Loan                    int64\n",
      "Home_Equity_Loan                 int64\n",
      "Mortgage_Loan                    int64\n",
      "Student_Loan                     int64\n",
      "Debt_Consolidation_Loan          int64\n",
      "Payday_Loan                      int64\n",
      "Missed_Payment_Day               int64\n",
      "dtype: object\n"
     ]
    }
   ],
   "source": [
    "print(X_train.dtypes)"
   ]
  },
  {
   "cell_type": "code",
   "execution_count": 96,
   "id": "dbb6b941",
=======
   "execution_count": 27,
   "id": "5ff13db8",
>>>>>>> 6820d8e6b4a932637a73c1dda21ad81c69186b04
   "metadata": {},
   "outputs": [
    {
     "name": "stderr",
     "output_type": "stream",
     "text": [
<<<<<<< HEAD
      "WARNING:urllib3.connectionpool:Retrying (Retry(total=6, connect=7, read=6, redirect=7, status=7)) after connection broken by 'RemoteDisconnected('Remote end closed connection without response')': /luciancsilva/fiap-10dtsr-mlops-trabalho-final.mlflow/api/2.0/mlflow/runs/create\n",
      "2025/08/03 19:18:01 WARNING mlflow.utils.autologging_utils: MLflow autologging encountered a warning: \"/home/lucian/Documents/FIAP/fiap-10dtsr-mlops-trabalho-final/.venv/lib/python3.10/site-packages/mlflow/types/utils.py:452: UserWarning: Hint: Inferred schema contains integer column(s). Integer columns in Python cannot represent missing values. If your input data contains missing values at inference time, it will be encoded as floats and will cause a schema enforcement error. The best way to avoid this problem is to infer the model schema based on a realistic data sample (training dataset) that includes missing values. Alternatively, you can declare integer columns as doubles (float64) whenever these columns may have missing values. See `Handling Integers With Missing Values <https://www.mlflow.org/docs/latest/models.html#handling-integers-with-missing-values>`_ for more details.\"\n",
      "2025/08/03 19:18:02 WARNING mlflow.sklearn.utils: Failed to import matplotlib (error: ImportError('generic_type: type \"_InterpolationType\" is already registered!')). Skipping artifact logging.\n",
      "2025/08/03 19:18:03 WARNING mlflow.utils.autologging_utils: MLflow autologging encountered a warning: \"/home/lucian/Documents/FIAP/fiap-10dtsr-mlops-trabalho-final/.venv/lib/python3.10/site-packages/mlflow/types/utils.py:452: UserWarning: Hint: Inferred schema contains integer column(s). Integer columns in Python cannot represent missing values. If your input data contains missing values at inference time, it will be encoded as floats and will cause a schema enforcement error. The best way to avoid this problem is to infer the model schema based on a realistic data sample (training dataset) that includes missing values. Alternatively, you can declare integer columns as doubles (float64) whenever these columns may have missing values. See `Handling Integers With Missing Values <https://www.mlflow.org/docs/latest/models.html#handling-integers-with-missing-values>`_ for more details.\"\n",
      "2025/08/03 19:18:15 INFO mlflow.sklearn.utils: Logging the 5 best runs, 3 runs will be omitted.\n",
      "/home/lucian/Documents/FIAP/fiap-10dtsr-mlops-trabalho-final/.venv/lib/python3.10/site-packages/mlflow/types/utils.py:452: UserWarning: Hint: Inferred schema contains integer column(s). Integer columns in Python cannot represent missing values. If your input data contains missing values at inference time, it will be encoded as floats and will cause a schema enforcement error. The best way to avoid this problem is to infer the model schema based on a realistic data sample (training dataset) that includes missing values. Alternatively, you can declare integer columns as doubles (float64) whenever these columns may have missing values. See `Handling Integers With Missing Values <https://www.mlflow.org/docs/latest/models.html#handling-integers-with-missing-values>`_ for more details.\n",
=======
      "2025/06/17 22:47:02 WARNING mlflow.utils.autologging_utils: MLflow autologging encountered a warning: \"/Users/michelpf/Documents/Projects/fiap-ds-mlops-10dtsr-laptop-pricing-brl/.venv/lib/python3.10/site-packages/mlflow/types/utils.py:452: UserWarning: Hint: Inferred schema contains integer column(s). Integer columns in Python cannot represent missing values. If your input data contains missing values at inference time, it will be encoded as floats and will cause a schema enforcement error. The best way to avoid this problem is to infer the model schema based on a realistic data sample (training dataset) that includes missing values. Alternatively, you can declare integer columns as doubles (float64) whenever these columns may have missing values. See `Handling Integers With Missing Values <https://www.mlflow.org/docs/latest/models.html#handling-integers-with-missing-values>`_ for more details.\"\n",
      "2025/06/17 22:47:02 WARNING mlflow.utils.autologging_utils: MLflow autologging encountered a warning: \"/Users/michelpf/Documents/Projects/fiap-ds-mlops-10dtsr-laptop-pricing-brl/.venv/lib/python3.10/site-packages/mlflow/types/utils.py:452: UserWarning: Hint: Inferred schema contains integer column(s). Integer columns in Python cannot represent missing values. If your input data contains missing values at inference time, it will be encoded as floats and will cause a schema enforcement error. The best way to avoid this problem is to infer the model schema based on a realistic data sample (training dataset) that includes missing values. Alternatively, you can declare integer columns as doubles (float64) whenever these columns may have missing values. See `Handling Integers With Missing Values <https://www.mlflow.org/docs/latest/models.html#handling-integers-with-missing-values>`_ for more details.\"\n",
      "2025/06/17 22:47:16 INFO mlflow.sklearn.utils: Logging the 5 best runs, 3 runs will be omitted.\n"
     ]
    },
    {
     "name": "stdout",
     "output_type": "stream",
     "text": [
      "🏃 View run able-yak-400 at: https://dagshub.com/michelpf/fiap-ds-mlops-10dtsr-laptop-pricing-brl.mlflow/#/experiments/0/runs/246a068944994f07b3a5d49a0d9c4e3d\n",
      "🧪 View experiment at: https://dagshub.com/michelpf/fiap-ds-mlops-10dtsr-laptop-pricing-brl.mlflow/#/experiments/0\n",
      "🏃 View run burly-shoat-601 at: https://dagshub.com/michelpf/fiap-ds-mlops-10dtsr-laptop-pricing-brl.mlflow/#/experiments/0/runs/9c7d5a030c9e44fd96f77d9ee48715f2\n",
      "🧪 View experiment at: https://dagshub.com/michelpf/fiap-ds-mlops-10dtsr-laptop-pricing-brl.mlflow/#/experiments/0\n",
      "🏃 View run popular-roo-974 at: https://dagshub.com/michelpf/fiap-ds-mlops-10dtsr-laptop-pricing-brl.mlflow/#/experiments/0/runs/210e1a8b22bb495fa4d88bb18b4e7978\n",
      "🧪 View experiment at: https://dagshub.com/michelpf/fiap-ds-mlops-10dtsr-laptop-pricing-brl.mlflow/#/experiments/0\n",
      "🏃 View run fortunate-kit-33 at: https://dagshub.com/michelpf/fiap-ds-mlops-10dtsr-laptop-pricing-brl.mlflow/#/experiments/0/runs/c45df76fc26746039d313e122c8952c7\n",
      "🧪 View experiment at: https://dagshub.com/michelpf/fiap-ds-mlops-10dtsr-laptop-pricing-brl.mlflow/#/experiments/0\n"
     ]
    },
    {
     "name": "stderr",
     "output_type": "stream",
     "text": [
      "/Users/michelpf/Documents/Projects/fiap-ds-mlops-10dtsr-laptop-pricing-brl/.venv/lib/python3.10/site-packages/mlflow/types/utils.py:452: UserWarning: Hint: Inferred schema contains integer column(s). Integer columns in Python cannot represent missing values. If your input data contains missing values at inference time, it will be encoded as floats and will cause a schema enforcement error. The best way to avoid this problem is to infer the model schema based on a realistic data sample (training dataset) that includes missing values. Alternatively, you can declare integer columns as doubles (float64) whenever these columns may have missing values. See `Handling Integers With Missing Values <https://www.mlflow.org/docs/latest/models.html#handling-integers-with-missing-values>`_ for more details.\n",
>>>>>>> 6820d8e6b4a932637a73c1dda21ad81c69186b04
      "  warnings.warn(\n"
     ]
    },
    {
     "name": "stdout",
     "output_type": "stream",
     "text": [
<<<<<<< HEAD
      "Model ridge_classifier logged with Accuracy: 0.5680, Precision: 0.5673, Recall: 0.5680, F1: 0.5169\n",
      "Predições originais (sample): [0 0 0 0 0 0 0 0 0 1]\n",
      "🏃 View run Ridge Classifier at: https://dagshub.com/luciancsilva/fiap-10dtsr-mlops-trabalho-final.mlflow/#/experiments/0/runs/818773c585db44a689f75ccf67145055\n",
      "🧪 View experiment at: https://dagshub.com/luciancsilva/fiap-10dtsr-mlops-trabalho-final.mlflow/#/experiments/0\n"
=======
      "Model ridge_regression logged with MSE: 3024089.113899021, MAE: 1137.7871730265838, R2: 0.6421034856259346, MAPE: 0.22065408855367996\n",
      "🏃 View run Ridge Regression at: https://dagshub.com/michelpf/fiap-ds-mlops-10dtsr-laptop-pricing-brl.mlflow/#/experiments/0/runs/fa22710c2eb9419baf9e48b90c66df33\n",
      "🧪 View experiment at: https://dagshub.com/michelpf/fiap-ds-mlops-10dtsr-laptop-pricing-brl.mlflow/#/experiments/0\n"
     ]
    },
    {
     "name": "stderr",
     "output_type": "stream",
     "text": [
      "WARNING:urllib3.connectionpool:Retrying (Retry(total=6, connect=7, read=6, redirect=7, status=7)) after connection broken by 'RemoteDisconnected('Remote end closed connection without response')': /michelpf/fiap-ds-mlops-10dtsr-laptop-pricing-brl.mlflow/api/2.0/mlflow/runs/create\n",
      "WARNING:urllib3.connectionpool:Retrying (Retry(total=6, connect=7, read=6, redirect=7, status=7)) after connection broken by 'RemoteDisconnected('Remote end closed connection without response')': /michelpf/fiap-ds-mlops-10dtsr-laptop-pricing-brl.mlflow/api/2.0/mlflow/runs/create\n",
      "WARNING:urllib3.connectionpool:Retrying (Retry(total=6, connect=7, read=6, redirect=7, status=7)) after connection broken by 'RemoteDisconnected('Remote end closed connection without response')': /michelpf/fiap-ds-mlops-10dtsr-laptop-pricing-brl.mlflow/api/2.0/mlflow/runs/create\n",
      "WARNING:urllib3.connectionpool:Retrying (Retry(total=6, connect=7, read=6, redirect=7, status=7)) after connection broken by 'RemoteDisconnected('Remote end closed connection without response')': /michelpf/fiap-ds-mlops-10dtsr-laptop-pricing-brl.mlflow/api/2.0/mlflow/runs/create\n"
     ]
    },
    {
     "name": "stdout",
     "output_type": "stream",
     "text": [
      "🏃 View run intelligent-tern-610 at: https://dagshub.com/michelpf/fiap-ds-mlops-10dtsr-laptop-pricing-brl.mlflow/#/experiments/0/runs/ce1316e17fdd464d90f2891a936521a7\n",
      "🧪 View experiment at: https://dagshub.com/michelpf/fiap-ds-mlops-10dtsr-laptop-pricing-brl.mlflow/#/experiments/0\n",
      "🏃 View run resilient-shrike-134 at: https://dagshub.com/michelpf/fiap-ds-mlops-10dtsr-laptop-pricing-brl.mlflow/#/experiments/0/runs/8412d9e91d304667bab3aba1e29bcc8e\n",
      "🧪 View experiment at: https://dagshub.com/michelpf/fiap-ds-mlops-10dtsr-laptop-pricing-brl.mlflow/#/experiments/0\n",
      "🏃 View run zealous-lamb-848 at: https://dagshub.com/michelpf/fiap-ds-mlops-10dtsr-laptop-pricing-brl.mlflow/#/experiments/0/runs/b369ed2e54134df3971d7f10a15fa82c\n",
      "🧪 View experiment at: https://dagshub.com/michelpf/fiap-ds-mlops-10dtsr-laptop-pricing-brl.mlflow/#/experiments/0\n",
      "🏃 View run brawny-bat-778 at: https://dagshub.com/michelpf/fiap-ds-mlops-10dtsr-laptop-pricing-brl.mlflow/#/experiments/0/runs/89478e54cea0478dbcd3d8eb27861aa7\n",
      "🧪 View experiment at: https://dagshub.com/michelpf/fiap-ds-mlops-10dtsr-laptop-pricing-brl.mlflow/#/experiments/0\n",
      "🏃 View run thundering-trout-32 at: https://dagshub.com/michelpf/fiap-ds-mlops-10dtsr-laptop-pricing-brl.mlflow/#/experiments/0/runs/683fcef1928c4ce7851a00b95c1aafdb\n",
      "🧪 View experiment at: https://dagshub.com/michelpf/fiap-ds-mlops-10dtsr-laptop-pricing-brl.mlflow/#/experiments/0\n"
>>>>>>> 6820d8e6b4a932637a73c1dda21ad81c69186b04
     ]
    }
   ],
   "source": [
<<<<<<< HEAD
    "with mlflow.start_run(run_name=\"Ridge Classifier\"):\n",
=======
    "with mlflow.start_run(run_name=\"Ridge Regression\"):\n",
>>>>>>> 6820d8e6b4a932637a73c1dda21ad81c69186b04
    "    param_grid = {\n",
    "        'alpha': [0.1, 1.0, 10.0, 100.0],\n",
    "        'fit_intercept': [True, False],\n",
    "        }\n",
    "    \n",
<<<<<<< HEAD
    "    ridge = RidgeClassifier()\n",
    "\n",
    "    grid_search = GridSearchCV(ridge, param_grid, cv=5, scoring='accuracy')\n",
=======
    "    ridge = Ridge()\n",
    "\n",
    "    grid_search = GridSearchCV(ridge, param_grid, cv=5, scoring=make_scorer(mean_absolute_percentage_error, greater_is_better=False))\n",
>>>>>>> 6820d8e6b4a932637a73c1dda21ad81c69186b04
    "    grid_search.fit(X_train, y_train)\n",
    "\n",
    "    best_model = grid_search.best_estimator_\n",
    "\n",
    "    mlflow.log_param(\"best_alpha\", grid_search.best_params_['alpha'])\n",
    "    mlflow.log_param(\"best_fit_intercept\", grid_search.best_params_['fit_intercept'])\n",
    "\n",
<<<<<<< HEAD
    "    evaluate_and_log_classification_model(\"sklearn\", \"ridge_classifier\", best_model, X_test, y_test)"
=======
    "    evaluate_and_log_model(\"sklearn\", \"ridge_regression\", best_model, X_test, y_test)"
>>>>>>> 6820d8e6b4a932637a73c1dda21ad81c69186b04
   ]
  },
  {
   "cell_type": "markdown",
<<<<<<< HEAD
   "id": "ad09c50b",
   "metadata": {},
   "source": [
    "### Decision Tree Classifier"
=======
   "id": "9d4d8272",
   "metadata": {},
   "source": [
    "### Decision Tree Regressor"
>>>>>>> 6820d8e6b4a932637a73c1dda21ad81c69186b04
   ]
  },
  {
   "cell_type": "code",
<<<<<<< HEAD
   "execution_count": 97,
   "id": "11898c65",
=======
   "execution_count": 28,
   "id": "43a75b9d",
>>>>>>> 6820d8e6b4a932637a73c1dda21ad81c69186b04
   "metadata": {},
   "outputs": [
    {
     "name": "stderr",
     "output_type": "stream",
     "text": [
<<<<<<< HEAD
      "2025/08/03 19:19:07 WARNING mlflow.utils.autologging_utils: MLflow autologging encountered a warning: \"/home/lucian/Documents/FIAP/fiap-10dtsr-mlops-trabalho-final/.venv/lib/python3.10/site-packages/mlflow/types/utils.py:452: UserWarning: Hint: Inferred schema contains integer column(s). Integer columns in Python cannot represent missing values. If your input data contains missing values at inference time, it will be encoded as floats and will cause a schema enforcement error. The best way to avoid this problem is to infer the model schema based on a realistic data sample (training dataset) that includes missing values. Alternatively, you can declare integer columns as doubles (float64) whenever these columns may have missing values. See `Handling Integers With Missing Values <https://www.mlflow.org/docs/latest/models.html#handling-integers-with-missing-values>`_ for more details.\"\n",
      "2025/08/03 19:20:41 WARNING mlflow.sklearn.utils: Failed to import matplotlib (error: ImportError('generic_type: type \"_InterpolationType\" is already registered!')). Skipping artifact logging.\n",
      "2025/08/03 19:20:42 WARNING mlflow.utils.autologging_utils: MLflow autologging encountered a warning: \"/home/lucian/Documents/FIAP/fiap-10dtsr-mlops-trabalho-final/.venv/lib/python3.10/site-packages/mlflow/types/utils.py:452: UserWarning: Hint: Inferred schema contains integer column(s). Integer columns in Python cannot represent missing values. If your input data contains missing values at inference time, it will be encoded as floats and will cause a schema enforcement error. The best way to avoid this problem is to infer the model schema based on a realistic data sample (training dataset) that includes missing values. Alternatively, you can declare integer columns as doubles (float64) whenever these columns may have missing values. See `Handling Integers With Missing Values <https://www.mlflow.org/docs/latest/models.html#handling-integers-with-missing-values>`_ for more details.\"\n",
      "2025/08/03 19:21:00 INFO mlflow.sklearn.utils: Logging the 5 best runs, 40 runs will be omitted.\n",
      "/home/lucian/Documents/FIAP/fiap-10dtsr-mlops-trabalho-final/.venv/lib/python3.10/site-packages/mlflow/types/utils.py:452: UserWarning: Hint: Inferred schema contains integer column(s). Integer columns in Python cannot represent missing values. If your input data contains missing values at inference time, it will be encoded as floats and will cause a schema enforcement error. The best way to avoid this problem is to infer the model schema based on a realistic data sample (training dataset) that includes missing values. Alternatively, you can declare integer columns as doubles (float64) whenever these columns may have missing values. See `Handling Integers With Missing Values <https://www.mlflow.org/docs/latest/models.html#handling-integers-with-missing-values>`_ for more details.\n",
=======
      "WARNING:urllib3.connectionpool:Retrying (Retry(total=6, connect=7, read=6, redirect=7, status=7)) after connection broken by 'RemoteDisconnected('Remote end closed connection without response')': /michelpf/fiap-ds-mlops-10dtsr-laptop-pricing-brl.mlflow/api/2.0/mlflow/runs/create\n",
      "2025/06/17 23:04:25 WARNING mlflow.utils.autologging_utils: MLflow autologging encountered a warning: \"/Users/michelpf/Documents/Projects/fiap-ds-mlops-10dtsr-laptop-pricing-brl/.venv/lib/python3.10/site-packages/mlflow/types/utils.py:452: UserWarning: Hint: Inferred schema contains integer column(s). Integer columns in Python cannot represent missing values. If your input data contains missing values at inference time, it will be encoded as floats and will cause a schema enforcement error. The best way to avoid this problem is to infer the model schema based on a realistic data sample (training dataset) that includes missing values. Alternatively, you can declare integer columns as doubles (float64) whenever these columns may have missing values. See `Handling Integers With Missing Values <https://www.mlflow.org/docs/latest/models.html#handling-integers-with-missing-values>`_ for more details.\"\n",
      "2025/06/17 23:04:26 WARNING mlflow.utils.autologging_utils: MLflow autologging encountered a warning: \"/Users/michelpf/Documents/Projects/fiap-ds-mlops-10dtsr-laptop-pricing-brl/.venv/lib/python3.10/site-packages/mlflow/types/utils.py:452: UserWarning: Hint: Inferred schema contains integer column(s). Integer columns in Python cannot represent missing values. If your input data contains missing values at inference time, it will be encoded as floats and will cause a schema enforcement error. The best way to avoid this problem is to infer the model schema based on a realistic data sample (training dataset) that includes missing values. Alternatively, you can declare integer columns as doubles (float64) whenever these columns may have missing values. See `Handling Integers With Missing Values <https://www.mlflow.org/docs/latest/models.html#handling-integers-with-missing-values>`_ for more details.\"\n",
      "2025/06/17 23:04:36 INFO mlflow.sklearn.utils: Logging the 5 best runs, 40 runs will be omitted.\n",
      "/Users/michelpf/Documents/Projects/fiap-ds-mlops-10dtsr-laptop-pricing-brl/.venv/lib/python3.10/site-packages/mlflow/types/utils.py:452: UserWarning: Hint: Inferred schema contains integer column(s). Integer columns in Python cannot represent missing values. If your input data contains missing values at inference time, it will be encoded as floats and will cause a schema enforcement error. The best way to avoid this problem is to infer the model schema based on a realistic data sample (training dataset) that includes missing values. Alternatively, you can declare integer columns as doubles (float64) whenever these columns may have missing values. See `Handling Integers With Missing Values <https://www.mlflow.org/docs/latest/models.html#handling-integers-with-missing-values>`_ for more details.\n",
>>>>>>> 6820d8e6b4a932637a73c1dda21ad81c69186b04
      "  warnings.warn(\n"
     ]
    },
    {
     "name": "stdout",
     "output_type": "stream",
     "text": [
<<<<<<< HEAD
      "Model decision_tree_classifier logged with Accuracy: 0.7362, Precision: 0.7362, Recall: 0.7362, F1: 0.7362\n",
      "Predições originais (sample): [-1  0  1 -1  0 -1  1 -1  0  1]\n",
      "🏃 View run Decision Tree Classifier at: https://dagshub.com/luciancsilva/fiap-10dtsr-mlops-trabalho-final.mlflow/#/experiments/0/runs/4c0a3d5e4f0948fba1e1d6735a44719f\n",
      "🧪 View experiment at: https://dagshub.com/luciancsilva/fiap-10dtsr-mlops-trabalho-final.mlflow/#/experiments/0\n"
=======
      "Model ridge_regression logged with MSE: 3668953.253182008, MAE: 1028.2912090410825, R2: 0.5657847598868493, MAPE: 0.16346935432919718\n",
      "🏃 View run Decision Tree Regression at: https://dagshub.com/michelpf/fiap-ds-mlops-10dtsr-laptop-pricing-brl.mlflow/#/experiments/0/runs/5314415177954dfcb35ae1ff8cf0721d\n",
      "🧪 View experiment at: https://dagshub.com/michelpf/fiap-ds-mlops-10dtsr-laptop-pricing-brl.mlflow/#/experiments/0\n"
>>>>>>> 6820d8e6b4a932637a73c1dda21ad81c69186b04
     ]
    }
   ],
   "source": [
<<<<<<< HEAD
    "with mlflow.start_run(run_name=\"Decision Tree Classifier\"):\n",
=======
    "with mlflow.start_run(run_name=\"Decision Tree Regression\"):\n",
>>>>>>> 6820d8e6b4a932637a73c1dda21ad81c69186b04
    "    param_grid = {\n",
    "        'max_depth': [None, 3, 5, 10, 15],\n",
    "        'min_samples_split': [2, 5, 10],\n",
    "        'min_samples_leaf': [1, 2, 4]\n",
    "    }\n",
    "    \n",
<<<<<<< HEAD
    "    dt = DecisionTreeClassifier(random_state=42)\n",
    "\n",
    "    grid_search = GridSearchCV(dt, param_grid, cv=5, scoring='accuracy')\n",
=======
    "    ridge = DecisionTreeRegressor()\n",
    "\n",
    "    grid_search = GridSearchCV(ridge, param_grid, cv=5, scoring=make_scorer(mean_absolute_percentage_error, greater_is_better=False))\n",
>>>>>>> 6820d8e6b4a932637a73c1dda21ad81c69186b04
    "    grid_search.fit(X_train, y_train)\n",
    "\n",
    "    best_model = grid_search.best_estimator_\n",
    "\n",
    "    mlflow.log_param(\"best_max_depth\", grid_search.best_params_['max_depth'])\n",
    "    mlflow.log_param(\"best_min_samples_split\", grid_search.best_params_['min_samples_split'])\n",
    "    mlflow.log_param(\"best_min_samples_leaf\", grid_search.best_params_['min_samples_leaf'])\n",
    "\n",
<<<<<<< HEAD
    "    evaluate_and_log_classification_model(\"sklearn\", \"decision_tree_classifier\", best_model, X_test, y_test)"
=======
    "    evaluate_and_log_model(\"sklearn\", \"ridge_regression\", best_model, X_test, y_test)"
>>>>>>> 6820d8e6b4a932637a73c1dda21ad81c69186b04
   ]
  },
  {
   "cell_type": "markdown",
<<<<<<< HEAD
   "id": "8ed2a7ec",
   "metadata": {},
   "source": [
    "## XGBoost Classifier (Otimizado)"
=======
   "id": "1b04deed",
   "metadata": {},
   "source": [
    "## XGBoost"
>>>>>>> 6820d8e6b4a932637a73c1dda21ad81c69186b04
   ]
  },
  {
   "cell_type": "code",
<<<<<<< HEAD
   "execution_count": 98,
   "id": "417000cc",
=======
   "execution_count": 18,
   "id": "084279a6",
>>>>>>> 6820d8e6b4a932637a73c1dda21ad81c69186b04
   "metadata": {},
   "outputs": [
    {
     "name": "stderr",
     "output_type": "stream",
     "text": [
<<<<<<< HEAD
      "2025/08/03 19:21:55 WARNING mlflow.utils.autologging_utils: MLflow autologging encountered a warning: \"/home/lucian/Documents/FIAP/fiap-10dtsr-mlops-trabalho-final/.venv/lib/python3.10/site-packages/mlflow/types/utils.py:452: UserWarning: Hint: Inferred schema contains integer column(s). Integer columns in Python cannot represent missing values. If your input data contains missing values at inference time, it will be encoded as floats and will cause a schema enforcement error. The best way to avoid this problem is to infer the model schema based on a realistic data sample (training dataset) that includes missing values. Alternatively, you can declare integer columns as doubles (float64) whenever these columns may have missing values. See `Handling Integers With Missing Values <https://www.mlflow.org/docs/latest/models.html#handling-integers-with-missing-values>`_ for more details.\"\n",
      "2025/08/03 19:22:15 WARNING mlflow.sklearn.utils: Failed to import matplotlib (error: ImportError('generic_type: type \"_InterpolationType\" is already registered!')). Skipping artifact logging.\n",
      "2025/08/03 19:22:16 WARNING mlflow.utils.autologging_utils: MLflow autologging encountered a warning: \"/home/lucian/Documents/FIAP/fiap-10dtsr-mlops-trabalho-final/.venv/lib/python3.10/site-packages/mlflow/types/utils.py:452: UserWarning: Hint: Inferred schema contains integer column(s). Integer columns in Python cannot represent missing values. If your input data contains missing values at inference time, it will be encoded as floats and will cause a schema enforcement error. The best way to avoid this problem is to infer the model schema based on a realistic data sample (training dataset) that includes missing values. Alternatively, you can declare integer columns as doubles (float64) whenever these columns may have missing values. See `Handling Integers With Missing Values <https://www.mlflow.org/docs/latest/models.html#handling-integers-with-missing-values>`_ for more details.\"\n",
      "2025/08/03 19:22:33 INFO mlflow.sklearn.utils: Logging the 5 best runs, 3 runs will be omitted.\n",
      "/home/lucian/Documents/FIAP/fiap-10dtsr-mlops-trabalho-final/.venv/lib/python3.10/site-packages/mlflow/types/utils.py:452: UserWarning: Hint: Inferred schema contains integer column(s). Integer columns in Python cannot represent missing values. If your input data contains missing values at inference time, it will be encoded as floats and will cause a schema enforcement error. The best way to avoid this problem is to infer the model schema based on a realistic data sample (training dataset) that includes missing values. Alternatively, you can declare integer columns as doubles (float64) whenever these columns may have missing values. See `Handling Integers With Missing Values <https://www.mlflow.org/docs/latest/models.html#handling-integers-with-missing-values>`_ for more details.\n",
      "  warnings.warn(\n",
      "/home/lucian/Documents/FIAP/fiap-10dtsr-mlops-trabalho-final/.venv/lib/python3.10/site-packages/xgboost/sklearn.py:1028: UserWarning: [19:23:15] WARNING: /workspace/src/c_api/c_api.cc:1427: Saving model in the UBJSON format as default.  You can use file extension: `json`, `ubj` or `deprecated` to choose between formats.\n",
=======
      "2025/06/24 21:50:51 WARNING mlflow.utils.autologging_utils: MLflow autologging encountered a warning: \"/Users/michelpf/Documents/Projects/fiap-ds-mlops-10dtsr-laptop-pricing-brl/.venv/lib/python3.10/site-packages/mlflow/types/utils.py:452: UserWarning: Hint: Inferred schema contains integer column(s). Integer columns in Python cannot represent missing values. If your input data contains missing values at inference time, it will be encoded as floats and will cause a schema enforcement error. The best way to avoid this problem is to infer the model schema based on a realistic data sample (training dataset) that includes missing values. Alternatively, you can declare integer columns as doubles (float64) whenever these columns may have missing values. See `Handling Integers With Missing Values <https://www.mlflow.org/docs/latest/models.html#handling-integers-with-missing-values>`_ for more details.\"\n",
      "2025/06/24 22:01:40 WARNING mlflow.utils.autologging_utils: MLflow autologging encountered a warning: \"/Users/michelpf/Documents/Projects/fiap-ds-mlops-10dtsr-laptop-pricing-brl/.venv/lib/python3.10/site-packages/mlflow/types/utils.py:452: UserWarning: Hint: Inferred schema contains integer column(s). Integer columns in Python cannot represent missing values. If your input data contains missing values at inference time, it will be encoded as floats and will cause a schema enforcement error. The best way to avoid this problem is to infer the model schema based on a realistic data sample (training dataset) that includes missing values. Alternatively, you can declare integer columns as doubles (float64) whenever these columns may have missing values. See `Handling Integers With Missing Values <https://www.mlflow.org/docs/latest/models.html#handling-integers-with-missing-values>`_ for more details.\"\n",
      "2025/06/24 22:01:52 INFO mlflow.sklearn.utils: Logging the 5 best runs, 763 runs will be omitted.\n"
     ]
    },
    {
     "name": "stdout",
     "output_type": "stream",
     "text": [
      "🏃 View run incongruous-cub-245 at: https://dagshub.com/michelpf/fiap-ds-mlops-10dtsr-laptop-pricing-brl.mlflow/#/experiments/0/runs/59874b38ec9744ca859723a03efd5397\n",
      "🧪 View experiment at: https://dagshub.com/michelpf/fiap-ds-mlops-10dtsr-laptop-pricing-brl.mlflow/#/experiments/0\n",
      "🏃 View run rebellious-smelt-121 at: https://dagshub.com/michelpf/fiap-ds-mlops-10dtsr-laptop-pricing-brl.mlflow/#/experiments/0/runs/46a6050bb42945c5a7a99f5f3641ed6e\n",
      "🧪 View experiment at: https://dagshub.com/michelpf/fiap-ds-mlops-10dtsr-laptop-pricing-brl.mlflow/#/experiments/0\n",
      "🏃 View run upset-pig-375 at: https://dagshub.com/michelpf/fiap-ds-mlops-10dtsr-laptop-pricing-brl.mlflow/#/experiments/0/runs/588b9a0b139248c4ba15118bee027df3\n",
      "🧪 View experiment at: https://dagshub.com/michelpf/fiap-ds-mlops-10dtsr-laptop-pricing-brl.mlflow/#/experiments/0\n",
      "🏃 View run sassy-squid-688 at: https://dagshub.com/michelpf/fiap-ds-mlops-10dtsr-laptop-pricing-brl.mlflow/#/experiments/0/runs/466c9f4614b246ee912b2fc548cda5c4\n",
      "🧪 View experiment at: https://dagshub.com/michelpf/fiap-ds-mlops-10dtsr-laptop-pricing-brl.mlflow/#/experiments/0\n",
      "🏃 View run vaunted-chimp-594 at: https://dagshub.com/michelpf/fiap-ds-mlops-10dtsr-laptop-pricing-brl.mlflow/#/experiments/0/runs/3ae244ed6d984200b275cef56bfc4e96\n",
      "🧪 View experiment at: https://dagshub.com/michelpf/fiap-ds-mlops-10dtsr-laptop-pricing-brl.mlflow/#/experiments/0\n"
     ]
    },
    {
     "name": "stderr",
     "output_type": "stream",
     "text": [
      "/Users/michelpf/Documents/Projects/fiap-ds-mlops-10dtsr-laptop-pricing-brl/.venv/lib/python3.10/site-packages/mlflow/types/utils.py:452: UserWarning: Hint: Inferred schema contains integer column(s). Integer columns in Python cannot represent missing values. If your input data contains missing values at inference time, it will be encoded as floats and will cause a schema enforcement error. The best way to avoid this problem is to infer the model schema based on a realistic data sample (training dataset) that includes missing values. Alternatively, you can declare integer columns as doubles (float64) whenever these columns may have missing values. See `Handling Integers With Missing Values <https://www.mlflow.org/docs/latest/models.html#handling-integers-with-missing-values>`_ for more details.\n",
      "  warnings.warn(\n",
      "/Users/michelpf/Documents/Projects/fiap-ds-mlops-10dtsr-laptop-pricing-brl/.venv/lib/python3.10/site-packages/xgboost/sklearn.py:1028: UserWarning: [22:02:15] WARNING: /Users/runner/work/xgboost/xgboost/src/c_api/c_api.cc:1427: Saving model in the UBJSON format as default.  You can use file extension: `json`, `ubj` or `deprecated` to choose between formats.\n",
>>>>>>> 6820d8e6b4a932637a73c1dda21ad81c69186b04
      "  self.get_booster().save_model(fname)\n"
     ]
    },
    {
     "name": "stdout",
     "output_type": "stream",
     "text": [
<<<<<<< HEAD
      "Model XGBoost Classifier logged with Accuracy: 0.7327, Precision: 0.7323, Recall: 0.7327, F1: 0.7307\n",
      "Predições originais (sample): 0    0\n",
      "1    0\n",
      "2    0\n",
      "3    0\n",
      "4    0\n",
      "5   -1\n",
      "6    1\n",
      "7   -1\n",
      "8    0\n",
      "9    0\n",
      "dtype: int64\n",
      "🏃 View run XGBoost_Classifier_Fast at: https://dagshub.com/luciancsilva/fiap-10dtsr-mlops-trabalho-final.mlflow/#/experiments/0/runs/1f4262978cad410ab7578a265c8a5586\n",
      "🧪 View experiment at: https://dagshub.com/luciancsilva/fiap-10dtsr-mlops-trabalho-final.mlflow/#/experiments/0\n"
=======
      "Model XGBoost Regressor logged with MSE: 2622710.25, MAE: 878.944580078125, R2: 0.6896060705184937, MAPE: 0.13514773547649384\n",
      "🏃 View run XGBoost_Regressor_Advanced at: https://dagshub.com/michelpf/fiap-ds-mlops-10dtsr-laptop-pricing-brl.mlflow/#/experiments/0/runs/9fcf1bcf27d946c98f857a2a9af74e26\n",
      "🧪 View experiment at: https://dagshub.com/michelpf/fiap-ds-mlops-10dtsr-laptop-pricing-brl.mlflow/#/experiments/0\n"
>>>>>>> 6820d8e6b4a932637a73c1dda21ad81c69186b04
     ]
    }
   ],
   "source": [
<<<<<<< HEAD
    "with mlflow.start_run(run_name=\"XGBoost_Classifier_Fast\"):\n",
    "   \n",
    "    # Grid muito mais simples para ser rápido\n",
    "    param_grid = {\n",
    "        'n_estimators': [100, 200],\n",
    "        'max_depth': [3, 6],\n",
    "        'learning_rate': [0.1, 0.2]\n",
    "    }\n",
    "   \n",
    "    # Usar dados mapeados para XGBoost\n",
    "    xgb = XGBClassifier(random_state=42, verbosity=0, eval_metric='mlogloss')\n",
    "    grid_search = GridSearchCV(xgb, param_grid, scoring='accuracy', cv=3)  # CV reduzido para 3\n",
    "    grid_search.fit(X_train, y_train_xgb)\n",
=======
    "with mlflow.start_run(run_name=\"XGBoost_Regressor_Advanced\"):\n",
    "   \n",
    "    param_grid = {\n",
    "        'n_estimators': [100, 200],\n",
    "        'max_depth': [3, 5, 7],\n",
    "        'learning_rate': [0.01, 0.1],\n",
    "        'subsample': [0.8, 1.0],\n",
    "        'colsample_bytree': [0.8, 1.0],\n",
    "        'gamma': [0, 1],\n",
    "        'reg_alpha': [0, 0.1],\n",
    "        'reg_lambda': [1, 5],\n",
    "        'min_child_weight': [1, 3]\n",
    "    }\n",
    "   \n",
    "    xgb = XGBRegressor(random_state=42, verbosity=0)\n",
    "    grid_search = GridSearchCV(xgb, param_grid, scoring=make_scorer(mean_absolute_percentage_error, greater_is_better=False), cv=5)\n",
    "    grid_search.fit(X_train, y_train)\n",
>>>>>>> 6820d8e6b4a932637a73c1dda21ad81c69186b04
    "    best_model = grid_search.best_estimator_\n",
    "\n",
    "    mlflow.log_param(\"best_n_estimators\", best_model.n_estimators)\n",
    "    mlflow.log_param(\"best_max_depth\", best_model.max_depth)\n",
    "    mlflow.log_param(\"best_learning_rate\", best_model.learning_rate)\n",
<<<<<<< HEAD
    "    \n",
    "    # Avaliar com conversão de volta para classes originais\n",
    "    evaluate_and_log_classification_model(\"xgboost\", \"XGBoost Classifier\", best_model, X_test, y_test_xgb, y_test, reverse_mapping)"
=======
    "    evaluate_and_log_model(\"xgboost\", \"XGBoost Regressor\", best_model, X_test, y_test)"
>>>>>>> 6820d8e6b4a932637a73c1dda21ad81c69186b04
   ]
  },
  {
   "cell_type": "markdown",
<<<<<<< HEAD
   "id": "6301dae7",
=======
   "id": "192f9e48",
   "metadata": {},
   "source": [
    "## Nova abordagem XGBoost"
   ]
  },
  {
   "cell_type": "code",
   "execution_count": 36,
   "id": "7020c8d4",
   "metadata": {},
   "outputs": [
    {
     "name": "stderr",
     "output_type": "stream",
     "text": [
      "WARNING:urllib3.connectionpool:Retrying (Retry(total=6, connect=7, read=6, redirect=7, status=7)) after connection broken by 'RemoteDisconnected('Remote end closed connection without response')': /michelpf/fiap-ds-mlops-10dtsr-laptop-pricing-brl.mlflow/api/2.0/mlflow/runs/create\n",
      "2025/06/27 22:43:48 WARNING mlflow.utils.autologging_utils: MLflow autologging encountered a warning: \"/Users/michelpf/Documents/Projects/fiap-ds-mlops-10dtsr-laptop-pricing-brl/.venv/lib/python3.10/site-packages/mlflow/types/utils.py:452: UserWarning: Hint: Inferred schema contains integer column(s). Integer columns in Python cannot represent missing values. If your input data contains missing values at inference time, it will be encoded as floats and will cause a schema enforcement error. The best way to avoid this problem is to infer the model schema based on a realistic data sample (training dataset) that includes missing values. Alternatively, you can declare integer columns as doubles (float64) whenever these columns may have missing values. See `Handling Integers With Missing Values <https://www.mlflow.org/docs/latest/models.html#handling-integers-with-missing-values>`_ for more details.\"\n",
      "2025/06/27 22:44:59 WARNING mlflow.utils.autologging_utils: MLflow autologging encountered a warning: \"/Users/michelpf/Documents/Projects/fiap-ds-mlops-10dtsr-laptop-pricing-brl/.venv/lib/python3.10/site-packages/mlflow/types/utils.py:452: UserWarning: Hint: Inferred schema contains integer column(s). Integer columns in Python cannot represent missing values. If your input data contains missing values at inference time, it will be encoded as floats and will cause a schema enforcement error. The best way to avoid this problem is to infer the model schema based on a realistic data sample (training dataset) that includes missing values. Alternatively, you can declare integer columns as doubles (float64) whenever these columns may have missing values. See `Handling Integers With Missing Values <https://www.mlflow.org/docs/latest/models.html#handling-integers-with-missing-values>`_ for more details.\"\n",
      "2025/06/27 22:45:11 INFO mlflow.sklearn.utils: Logging the 5 best runs, 43 runs will be omitted.\n",
      "/Users/michelpf/Documents/Projects/fiap-ds-mlops-10dtsr-laptop-pricing-brl/.venv/lib/python3.10/site-packages/mlflow/types/utils.py:452: UserWarning: Hint: Inferred schema contains integer column(s). Integer columns in Python cannot represent missing values. If your input data contains missing values at inference time, it will be encoded as floats and will cause a schema enforcement error. The best way to avoid this problem is to infer the model schema based on a realistic data sample (training dataset) that includes missing values. Alternatively, you can declare integer columns as doubles (float64) whenever these columns may have missing values. See `Handling Integers With Missing Values <https://www.mlflow.org/docs/latest/models.html#handling-integers-with-missing-values>`_ for more details.\n",
      "  warnings.warn(\n",
      "/Users/michelpf/Documents/Projects/fiap-ds-mlops-10dtsr-laptop-pricing-brl/.venv/lib/python3.10/site-packages/xgboost/sklearn.py:1028: UserWarning: [22:45:33] WARNING: /Users/runner/work/xgboost/xgboost/src/c_api/c_api.cc:1427: Saving model in the UBJSON format as default.  You can use file extension: `json`, `ubj` or `deprecated` to choose between formats.\n",
      "  self.get_booster().save_model(fname)\n"
     ]
    },
    {
     "name": "stdout",
     "output_type": "stream",
     "text": [
      "Model XGBoost Regressor logged with MSE: 2609672.0, MAE: 889.0443115234375, R2: 0.6911491751670837, MAPE: 0.14123447239398956\n",
      "🏃 View run XGBoost_Regressor at: https://dagshub.com/michelpf/fiap-ds-mlops-10dtsr-laptop-pricing-brl.mlflow/#/experiments/0/runs/2e5d588a429649d1923868dddf7c586d\n",
      "🧪 View experiment at: https://dagshub.com/michelpf/fiap-ds-mlops-10dtsr-laptop-pricing-brl.mlflow/#/experiments/0\n"
     ]
    }
   ],
   "source": [
    "with mlflow.start_run(run_name=\"XGBoost_Regressor\"):\n",
    "    param_grid = {\n",
    "        'n_estimators': [100, 200, 300],\n",
    "        'max_depth': [3, 5, 7, 9],\n",
    "        'learning_rate': [0.01, 0.1, 0.2, 0.3]\n",
    "    }\n",
    "    xgb = XGBRegressor(random_state=42, verbosity=0)\n",
    "    grid_search = GridSearchCV(xgb, param_grid, scoring=make_scorer(mean_absolute_percentage_error, greater_is_better=False), cv=5)\n",
    "    grid_search.fit(X_train, y_train)\n",
    "    best_model = grid_search.best_estimator_\n",
    "\n",
    "    mlflow.log_param(\"best_n_estimators\", best_model.n_estimators)\n",
    "    mlflow.log_param(\"best_max_depth\", best_model.max_depth)\n",
    "    mlflow.log_param(\"best_learning_rate\", best_model.learning_rate)\n",
    "    evaluate_and_log_model(\"xgboost\", \"XGBoost Regressor\", best_model, X_test, y_test)"
   ]
  },
  {
   "cell_type": "markdown",
   "id": "50f57909",
>>>>>>> 6820d8e6b4a932637a73c1dda21ad81c69186b04
   "metadata": {},
   "source": [
    "## Registro de Modelo em Produção"
   ]
  },
  {
   "cell_type": "code",
<<<<<<< HEAD
   "execution_count": 104,
   "id": "0a8ede75",
=======
   "execution_count": null,
   "id": "065f17ea",
>>>>>>> 6820d8e6b4a932637a73c1dda21ad81c69186b04
   "metadata": {},
   "outputs": [
    {
     "name": "stderr",
     "output_type": "stream",
     "text": [
<<<<<<< HEAD
      "Registered model 'credit_score_model' already exists. Creating a new version of this model...\n",
      "2025/08/03 19:34:59 INFO mlflow.store.model_registry.abstract_store: Waiting up to 300 seconds for model version to finish creation. Model name: credit_score_model, version 2\n",
      "Created version '2' of model 'credit_score_model'.\n"
=======
      "Registered model 'laptop-pricing-model-brl' already exists. Creating a new version of this model...\n",
      "2025/06/24 22:12:20 INFO mlflow.store.model_registry.abstract_store: Waiting up to 300 seconds for model version to finish creation. Model name: laptop-pricing-model-brl, version 3\n",
      "Created version '3' of model 'laptop-pricing-model-brl'.\n"
>>>>>>> 6820d8e6b4a932637a73c1dda21ad81c69186b04
     ]
    },
    {
     "data": {
      "text/plain": [
<<<<<<< HEAD
       "<ModelVersion: aliases=[], creation_timestamp=1754260501951, current_stage='None', description='', last_updated_timestamp=1754260501951, name='credit_score_model', run_id='4c0a3d5e4f0948fba1e1d6735a44719f', run_link='', source='mlflow-artifacts:/d89c8d3636e44e82a9744e47bc1ceb8e/4c0a3d5e4f0948fba1e1d6735a44719f/artifacts/model', status='READY', status_message=None, tags={}, user_id='', version='2'>"
      ]
     },
     "execution_count": 104,
=======
       "<ModelVersion: aliases=[], creation_timestamp=1750813940565, current_stage='None', description='', last_updated_timestamp=1750813940565, name='laptop-pricing-model-brl', run_id='9fcf1bcf27d946c98f857a2a9af74e26', run_link='', source='mlflow-artifacts:/d4bd9539a7fb4a12aa16e3387cfaf1ac/9fcf1bcf27d946c98f857a2a9af74e26/artifacts/model', status='READY', status_message=None, tags={}, user_id='', version='3'>"
      ]
     },
     "execution_count": 20,
>>>>>>> 6820d8e6b4a932637a73c1dda21ad81c69186b04
     "metadata": {},
     "output_type": "execute_result"
    }
   ],
   "source": [
<<<<<<< HEAD
    "# Substitua pelo run_id do melhor modelo\n",
    "run_id = \"4c0a3d5e4f0948fba1e1d6735a44719f\"\n",
    "\n",
    "mlflow.register_model(model_uri=f\"runs:/{run_id}/model\", name=\"credit_score_model\")"
   ]
  }
 ],
 "metadata": {
  "jupytext": {
   "cell_metadata_filter": "-all",
   "main_language": "python",
   "notebook_metadata_filter": "-all"
  },
  "language_info": {
   "name": "python"
=======
    "run_id = \"9fcf1bcf27d946c98f857a2a9af74e26\"\n",
    "\n",
    "mlflow.register_model(model_uri=f\"runs:/{run_id}/model\", name=\"laptop-pricing-model-brl\")"
   ]
  },
  {
   "cell_type": "markdown",
   "id": "f8ea7ace",
   "metadata": {},
   "source": []
  }
 ],
 "metadata": {
  "kernelspec": {
   "display_name": ".venv (3.10.13)",
   "language": "python",
   "name": "python3"
  },
  "language_info": {
   "codemirror_mode": {
    "name": "ipython",
    "version": 3
   },
   "file_extension": ".py",
   "mimetype": "text/x-python",
   "name": "python",
   "nbconvert_exporter": "python",
   "pygments_lexer": "ipython3",
   "version": "3.10.13"
>>>>>>> 6820d8e6b4a932637a73c1dda21ad81c69186b04
  }
 },
 "nbformat": 4,
 "nbformat_minor": 5
}
